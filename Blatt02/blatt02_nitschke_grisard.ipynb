{
 "cells": [
  {
   "cell_type": "markdown",
   "metadata": {},
   "source": [
    "# Blatt 2"
   ]
  },
  {
   "cell_type": "markdown",
   "metadata": {},
   "source": [
    "## Aufgabe 5"
   ]
  },
  {
   "cell_type": "code",
   "execution_count": null,
   "metadata": {
    "collapsed": true
   },
   "outputs": [],
   "source": [
    "import numpy as np\n",
    "from numpy import random\n",
    "import matplotlib.pyplot as plt\n",
    "\n",
    "uniform = random.uniform(size = 1000)"
   ]
  },
  {
   "cell_type": "markdown",
   "metadata": {},
   "source": [
    "__a)__ Gleichverteilung auf dem Gebiet $[x_{min}, x_{max}]$:\n",
    "$$f(x) = \\frac{1}{x_{max} - x_{min}}$$\n",
    "Bilde Verteilungsfunktion $F(x)$:\n",
    "$$\n",
    "F(x) = \\int_{x_{min}}^{x}f(x') \\, dx' = \\frac{x - x_{min}}{x_{max} - x_{min}}\n",
    "$$\n",
    "Bilde Umkehrfunktion $F^{-1}(y)$:\n",
    "$$\n",
    "F^{-1}(y) = (x_{max} - x_{min}) y + x_{min}.\n",
    "$$\n",
    "Implementierung und Darstellung:"
   ]
  },
  {
   "cell_type": "code",
   "execution_count": null,
   "metadata": {
    "collapsed": true
   },
   "outputs": [],
   "source": [
    "def uniform_intervall(y, xmin, xmax):\n",
    "    assert xmax >= xmin\n",
    "    return xmin + y * (xmax - xmin)"
   ]
  },
  {
   "cell_type": "code",
   "execution_count": null,
   "metadata": {},
   "outputs": [],
   "source": [
    "fig, ax = plt.subplots(1, 1)\n",
    "ax.hist(uniform_intervall(uniform, 42, 44), bins = 20, histtype='step')\n",
    "ax.set_xlabel('x')\n",
    "ax.set_ylabel('Counts')\n",
    "plt.show()"
   ]
  },
  {
   "cell_type": "markdown",
   "metadata": {},
   "source": [
    "__b)__ Exponentialgesetz: \n",
    "$$f(t) = N e^{-\\frac{t}{\\tau}} = \\frac{1}{\\tau}e^{-\\frac{t}{\\tau}}, \\quad t \\in [0, \\infty)$$\n",
    "\n",
    "Verteilungsfunkion:\n",
    "$$F(t) = \\int_{0}^{t} f(t') \\, dt' = (1 - e^{-\\frac{t}{\\tau}}) $$\n",
    "\n",
    "Umkehrfunktion:\n",
    "$$F^{-1}(y) = \\tau \\, \\text{ln}\\left(\\frac{1}{1 - y}\\right) $$\n",
    "Implementierung: "
   ]
  },
  {
   "cell_type": "code",
   "execution_count": null,
   "metadata": {
    "collapsed": true
   },
   "outputs": [],
   "source": [
    "def F(y, tau = 1):\n",
    "    return tau * np.log(1 / (1 - y))"
   ]
  },
  {
   "cell_type": "code",
   "execution_count": null,
   "metadata": {},
   "outputs": [],
   "source": [
    "fig, ax = plt.subplots(1, 1)\n",
    "ax.hist(F(uniform), bins = 30, histtype='step')\n",
    "ax.set_xlabel(r'$\\frac{t}{\\tau}$')\n",
    "ax.set_ylabel('Counts')\n",
    "plt.show()"
   ]
  },
  {
   "cell_type": "markdown",
   "metadata": {},
   "source": [
    "__c)__ Potenzgesetz: \n",
    "$$f(x) = N x^{-n} = \\frac{1 - n}{x_{max}^{1-n} - x_{min}^{1-n} } x^{-n}, \\quad x \\in [x_{min}, x_{max}], n \\geq 2$$\n",
    "Verteilungsfunktion: \n",
    "$$F(x) = \\int_{x_{min}}^{x} f(x') \\, dx' = \\frac{x^{1-n} - x_{min}^{1-n}  }{ x_{max}^{1-n} - x_{min}^{1-n} }$$\n",
    "\n",
    "Umkehrfunktion: \n",
    "$$  F^{-1}(y) = \\left\\{ \\left(x_{max}^{1-n} - x_{min}^{1 - n}\\right)y + x_{min}^{1-n}  \\right\\}^{\\frac{1}{1 - n}}  $$\n",
    "Implementierung:"
   ]
  },
  {
   "cell_type": "code",
   "execution_count": null,
   "metadata": {
    "collapsed": true
   },
   "outputs": [],
   "source": [
    "def power(y, xmin, xmax, n):\n",
    "    assert n >= 2\n",
    "    return ( (xmax**(1-n) - xmin**(1-n)) * y +  xmin**(1-n) )**(1 / (1-n))"
   ]
  },
  {
   "cell_type": "code",
   "execution_count": null,
   "metadata": {},
   "outputs": [],
   "source": [
    "fig, ax = plt.subplots(1, 1)\n",
    "ax.hist(power(uniform, xmin = 1, xmax = 4, n = 5), bins = 30, histtype='step')\n",
    "ax.set_xlabel('x')\n",
    "ax.set_ylabel('Counts')\n",
    "plt.show()"
   ]
  },
  {
   "cell_type": "markdown",
   "metadata": {},
   "source": [
    "__d)__ Cauchy-Verteilung: \n",
    "$$f(x) = \\frac{1}{\\pi} \\frac{1}{1 + x^2}, \\quad x \\in (-\\infty, \\infty)$$\n",
    "Verteilungsfunktion: \n",
    "$$  F(x) = \\int_{-\\infty}^{x} f(x')\\, dx'   = \\frac{1}{\\pi} \\left[\\text{arctan}(x) + \\frac{\\pi}{2} \\right]$$ \n",
    "Umkehrfunktion: \n",
    "$$F^{-1}(y) = \\text{tan} \\left( \\pi y - \\frac{\\pi}{2} \\right) $$\n",
    "Implementierung:"
   ]
  },
  {
   "cell_type": "code",
   "execution_count": null,
   "metadata": {
    "collapsed": true
   },
   "outputs": [],
   "source": [
    "def cauchy(y):\n",
    "    return np.tan(np.pi * (y - 1/2))"
   ]
  },
  {
   "cell_type": "code",
   "execution_count": null,
   "metadata": {},
   "outputs": [],
   "source": [
    "fig, ax = plt.subplots(1, 1)\n",
    "ax.hist(cauchy(uniform), bins = 500, histtype='step')\n",
    "ax.set_xlim(-50, 50)\n",
    "#ax.set_xscale('log')\n",
    "ax.set_xlabel('x')\n",
    "ax.set_ylabel('Counts')\n",
    "plt.show()"
   ]
  },
  {
   "cell_type": "markdown",
   "metadata": {},
   "source": [
    "__e)__ Verteilung aus empirischem Histogramm mit der 'rejection sampling' Methode"
   ]
  },
  {
   "cell_type": "code",
   "execution_count": null,
   "metadata": {},
   "outputs": [],
   "source": [
    "import pandas as pd\n",
    "hist = pd.read_csv('empirisches_histogramm.csv')\n",
    "binmids = hist['binmid']\n",
    "counts = hist['counts']\n",
    "\n",
    "fig, ax = plt.subplots(1, 1)\n",
    "ax.errorbar(x = binmids, y = counts, xerr = 0.01, linestyle = '')\n",
    "ax.set_xlabel('x')\n",
    "ax.set_ylabel('Counts')\n",
    "plt.show()"
   ]
  },
  {
   "cell_type": "code",
   "execution_count": null,
   "metadata": {
    "collapsed": true
   },
   "outputs": [],
   "source": [
    "norm = np.sum(counts * 0.2) #bin width is 0.2\n",
    "norm_counts = counts / norm #normalize data\n",
    "u1 = random.uniform(size = 10000) #\n",
    "u2 = random.uniform(size = 10000) #two uniform samples "
   ]
  },
  {
   "cell_type": "code",
   "execution_count": null,
   "metadata": {
    "collapsed": true
   },
   "outputs": [],
   "source": [
    "def empirical(counts, binmids, u1, u2):\n",
    "    binindex = u1 // 0.02 #get index of bin that includes u1 values \n",
    "    return u1[ [ u2[i] <= counts[binindex[i]] \n",
    "                for i in range(len(u1)) ] ]\n",
    "y = empirical(norm_counts, binmids, u1, u2)    "
   ]
  },
  {
   "cell_type": "markdown",
   "metadata": {},
   "source": [
    "Von den erzeugten 20000 Zufallszahlen bleiben 4.905% übrig."
   ]
  },
  {
   "cell_type": "code",
   "execution_count": null,
   "metadata": {},
   "outputs": [],
   "source": [
    "fig, ax = plt.subplots(1, 1)\n",
    "counts, binedges = np.histogram(y, bins = 50)\n",
    "ax.errorbar(x = (binedges[:-1] + binedges[1:]) * 0.5, y = counts, xerr = np.diff(binedges) * 0.5, linestyle = '')\n",
    "ax.set_xlabel('x')\n",
    "ax.set_ylabel('Counts')\n",
    "plt.show()"
   ]
  }
 ],
 "metadata": {
  "kernelspec": {
   "display_name": "Python 3",
   "language": "python",
   "name": "python3"
  },
  "language_info": {
   "codemirror_mode": {
    "name": "ipython",
    "version": 3
   },
   "file_extension": ".py",
   "mimetype": "text/x-python",
   "name": "python",
   "nbconvert_exporter": "python",
   "pygments_lexer": "ipython3",
   "version": "3.6.5"
  }
 },
 "nbformat": 4,
 "nbformat_minor": 2
}
