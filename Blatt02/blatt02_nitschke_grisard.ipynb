{
 "cells": [
  {
   "cell_type": "markdown",
   "metadata": {},
   "source": [
    "# Blatt 2"
   ]
  },
  {
   "cell_type": "markdown",
   "metadata": {},
   "source": [
    "## Aufgabe 5"
   ]
  },
  {
   "cell_type": "code",
   "execution_count": null,
   "metadata": {},
   "outputs": [],
   "source": [
    "import numpy as np\n",
    "from numpy import random\n",
    "import matplotlib.pyplot as plt\n",
    "\n",
    "uniform = random.uniform(size = 1000)"
   ]
  },
  {
   "cell_type": "markdown",
   "metadata": {},
   "source": [
    "__a)__ Gleichverteilung auf dem Gebiet $[x_{min}, x_{max}]$:\n",
    "$$f(x) = \\frac{1}{x_{max} - x_{min}}$$\n",
    "Bilde Verteilungsfunktion $F(x)$:\n",
    "$$\n",
    "F(x) = \\int_{x_{min}}^{x}f(x') \\, dx' = \\frac{x - x_{min}}{x_{max} - x_{min}}\n",
    "$$\n",
    "Bilde Umkehrfunktion $F^{-1}(y)$:\n",
    "$$\n",
    "F^{-1}(y) = (x_{max} - x_{min}) y + x_{min}.\n",
    "$$\n",
    "Implementierung und Darstellung:"
   ]
  },
  {
   "cell_type": "code",
   "execution_count": null,
   "metadata": {},
   "outputs": [],
   "source": [
    "def uniform_intervall(y, xmin, xmax):\n",
    "    assert xmax >= xmin\n",
    "    return xmin + y * (xmax - xmin)"
   ]
  },
  {
   "cell_type": "code",
   "execution_count": null,
   "metadata": {},
   "outputs": [],
   "source": [
    "fig, ax = plt.subplots(1, 1)\n",
    "ax.hist(uniform_intervall(uniform, 42, 44), bins = 20, histtype='step')\n",
    "ax.set_xlabel('x')\n",
    "ax.set_ylabel('Counts')\n",
    "plt.show()"
   ]
  },
  {
   "cell_type": "markdown",
   "metadata": {},
   "source": [
    "__b)__ Exponentialgesetz: \n",
    "$$f(t) = N e^{-\\frac{t}{\\tau}} = \\frac{1}{\\tau}e^{-\\frac{t}{\\tau}}, \\quad t \\in [0, \\infty)$$\n",
    "\n",
    "Verteilungsfunkion:\n",
    "$$F(t) = \\int_{0}^{t} f(t') \\, dt' = (1 - e^{-\\frac{t}{\\tau}}) $$\n",
    "\n",
    "Umkehrfunktion:\n",
    "$$F^{-1}(y) = \\tau \\, \\text{ln}\\left(\\frac{1}{1 - y}\\right) $$\n",
    "Implementierung: "
   ]
  },
  {
   "cell_type": "code",
   "execution_count": null,
   "metadata": {},
   "outputs": [],
   "source": [
    "def F(y, tau = 1):\n",
    "    return tau * np.log(1 / (1 - y))"
   ]
  },
  {
   "cell_type": "code",
   "execution_count": null,
   "metadata": {},
   "outputs": [],
   "source": [
    "fig, ax = plt.subplots(1, 1)\n",
    "ax.hist(F(uniform), bins = 30, histtype='step')\n",
    "ax.set_xlabel(r'$\\frac{t}{\\tau}$')\n",
    "ax.set_ylabel('Counts')\n",
    "plt.show()"
   ]
  },
  {
   "cell_type": "markdown",
   "metadata": {},
   "source": [
    "__c)__ Potenzgesetz: \n",
    "$$f(x) = N x^{-n} = \\frac{1 - n}{x_{max}^{1-n} - x_{min}^{1-n} } x^{-n}, \\quad x \\in [x_{min}, x_{max}], n \\geq 2$$\n",
    "Verteilungsfunktion: \n",
    "$$F(x) = \\int_{x_{min}}^{x} f(x') \\, dx' = \\frac{x^{1-n} - x_{min}^{1-n}  }{ x_{max}^{1-n} - x_{min}^{1-n} }$$\n",
    "\n",
    "Umkehrfunktion: \n",
    "$$  F^{-1}(y) = \\left\\{ \\left(x_{max}^{1-n} - x_{min}^{1 - n}\\right)y + x_{min}^{1-n}  \\right\\}^{\\frac{1}{1 - n}}  $$\n",
    "Implementierung:"
   ]
  },
  {
   "cell_type": "code",
   "execution_count": null,
   "metadata": {},
   "outputs": [],
   "source": [
    "def power(y, xmin, xmax, n):\n",
    "    assert n >= 2\n",
    "    return ( (xmax**(1-n) - xmin**(1-n)) * y +  xmin**(1-n) )**(1 / (1-n))"
   ]
  },
  {
   "cell_type": "code",
   "execution_count": null,
   "metadata": {},
   "outputs": [],
   "source": [
    "fig, ax = plt.subplots(1, 1)\n",
    "ax.hist(power(uniform, xmin = 1, xmax = 4, n = 5), bins = 30, histtype='step')\n",
    "ax.set_xlabel('x')\n",
    "ax.set_ylabel('Counts')\n",
    "plt.show()"
   ]
  },
  {
   "cell_type": "markdown",
   "metadata": {},
   "source": [
    "__d)__ Cauchy-Verteilung: \n",
    "$$f(x) = \\frac{1}{\\pi} \\frac{1}{1 + x^2}, \\quad x \\in (-\\infty, \\infty)$$\n",
    "Verteilungsfunktion: \n",
    "$$  F(x) = \\int_{-\\infty}^{x} f(x')\\, dx'   = \\frac{1}{\\pi} \\left[\\text{arctan}(x) + \\frac{\\pi}{2} \\right]$$ \n",
    "Umkehrfunktion: \n",
    "$$F^{-1}(y) = \\text{tan} \\left( \\pi y - \\frac{\\pi}{2} \\right) $$\n",
    "Implementierung:"
   ]
  },
  {
   "cell_type": "code",
   "execution_count": null,
   "metadata": {},
   "outputs": [],
   "source": [
    "def cauchy(y):\n",
    "    return np.tan(np.pi * (y - 1/2))"
   ]
  },
  {
   "cell_type": "code",
   "execution_count": null,
   "metadata": {},
   "outputs": [],
   "source": [
    "fig, ax = plt.subplots(1, 1)\n",
    "ax.hist(cauchy(uniform), bins = 500, histtype='step')\n",
    "ax.set_xlim(-50, 50)\n",
    "#ax.set_xscale('log')\n",
    "ax.set_xlabel('x')\n",
    "ax.set_ylabel('Counts')\n",
    "plt.show()"
   ]
  },
  {
   "cell_type": "markdown",
   "metadata": {},
   "source": [
    "__e)__ Verteilung aus empirischem Histogramm mit der 'rejection sampling' Methode"
   ]
  },
  {
   "cell_type": "code",
   "execution_count": null,
   "metadata": {},
   "outputs": [],
   "source": [
    "import pandas as pd\n",
    "hist = pd.read_csv('empirisches_histogramm.csv')\n",
    "binmids = hist['binmid']\n",
    "counts = hist['counts']\n",
    "\n",
    "fig, ax = plt.subplots(1, 1)\n",
    "ax.errorbar(x = binmids, y = counts, xerr = 0.01, linestyle = '')\n",
    "ax.set_xlabel('x')\n",
    "ax.set_ylabel('Counts')\n",
    "plt.show()"
   ]
  },
  {
   "cell_type": "code",
   "execution_count": null,
   "metadata": {},
   "outputs": [],
   "source": [
    "norm = np.sum(counts * 0.2) #bin width is 0.2\n",
    "norm_counts = counts / norm #normalize data\n",
    "u1 = random.uniform(size = 10000) #\n",
    "u2 = random.uniform(size = 10000) #two uniform samples "
   ]
  },
  {
   "cell_type": "code",
   "execution_count": null,
   "metadata": {},
   "outputs": [],
   "source": [
    "def empirical(counts, binmids, u1, u2):\n",
    "    binindex = u1 // 0.02 #get index of bin that includes u1 values \n",
    "    return u1[ [ u2[i] <= counts[binindex[i]] \n",
    "                for i in range(len(u1)) ] ]\n",
    "y = empirical(norm_counts, binmids, u1, u2)    "
   ]
  },
  {
   "cell_type": "markdown",
   "metadata": {},
   "source": [
    "Von den erzeugten 20000 Zufallszahlen bleiben 4.905% übrig."
   ]
  },
  {
   "cell_type": "code",
   "execution_count": null,
   "metadata": {},
   "outputs": [],
   "source": [
    "fig, ax = plt.subplots(1, 1)\n",
    "counts, binedges = np.histogram(y, bins = 50)\n",
    "ax.errorbar(x = (binedges[:-1] + binedges[1:]) * 0.5, y = counts, xerr = np.diff(binedges) * 0.5, linestyle = '')\n",
    "ax.set_xlabel('x')\n",
    "ax.set_ylabel('Counts')\n",
    "plt.show()"
   ]
  },
  {
   "cell_type": "markdown",
   "metadata": {},
   "source": [
    "__d)__ Die Matrix $M$ ist hier die transponierte derjenigen Rotationsmatrix, die die Inverse der Kovarianzmatrix $B$ diagonalisiert. $B$ ist gegeben durch: \n",
    "$$\n",
    "B = Cov^{-1} = \\frac{1}{\\sigma_x^2 \\sigma_y^2 - \\text{Cov}(x, y) } \n",
    "\\begin{pmatrix} \n",
    "    \\sigma_y^2 & -\\text{Cov}(x, y) \\\\\n",
    "    -\\text{Cov}(x, y) & \\sigma_x^2\n",
    "\\end{pmatrix}.\n",
    "$$\n",
    "Das ist die Matrix, die in der quadratischen Form im Exponenten der mehrdim. Gaußverteilung steht. Eine Diagonalisierung entkoppelt also das Problem. Die Diagonalisierte Matrix hat die Eigenwerte auf der Diagonalen stehen. Hierbei handelt es sich um die gesuchten\n",
    "$\\frac{1}{{\\sigma'}_x^2}$ und $\\frac{1}{{\\sigma'}_y^2}$. Die Eigenwerte ergeben sich aus \n",
    "$$\n",
    "\\text{det}\\left(B - \\frac{1}{{\\sigma'}_i^2} \\cdot 1  \\right) \\overset{!}{=} 0\n",
    "$$\n",
    "durch unspektakuläre Umformungen zu \n",
    "$$\n",
    "\\frac{1}{{\\sigma'}_{x, y}^2} = \\frac{1}{2[\\sigma_x^2 \\sigma_y^2 - \\text{Cov}^2(x, y)]} \\left\\{\\sigma_x^2 + \\sigma_y^2 \\pm  \\left[ \\left(\\sigma_x^2 - \\sigma_y^2\\right)^2     + 4 \\text{Cov}^2(x, y)\\right]^{\\frac{1}{2}}\\right\\}.\n",
    "$$\n",
    "Für die hier gegeben Werte kann man das dann ausrechnen: "
   ]
  },
  {
   "cell_type": "code",
   "execution_count": null,
   "metadata": {},
   "outputs": [],
   "source": [
    "def newsig(sigx2, sigy2, cov2):\n",
    "    return ((0.5 / (sigx2*sigy2 - cov2) * ( sigx2 + sigy2\n",
    "                 + np.sqrt( \n",
    "                     (sigx2 - sigy2)**2\n",
    "                     + 4 * cov2\n",
    "                  )))**(-0.5), \n",
    "            (0.5 / (sigx2*sigy2 - cov2) * ( sigx2 + sigy2\n",
    "                 - np.sqrt( \n",
    "                     (sigx2 - sigy2)**2\n",
    "                     + 4 * cov2\n",
    "                  )))**(-0.5))"
   ]
  },
  {
   "cell_type": "code",
   "execution_count": null,
   "metadata": {},
   "outputs": [],
   "source": [
    "mu_x = 4\n",
    "mu_y = 2\n",
    "sigx = 3.5\n",
    "sigy = 1.5\n",
    "cov = 4.2\n",
    "\n",
    "\n",
    "\n",
    "gauss_2d = np.random.multivariate_normal([mu_x, mu_y], [[sigx**2, cov], [cov, sigy**2]], 10000)\n",
    "\n",
    "newsigma = newsig(sigx**2, sigy**2, cov**2)\n",
    "\n",
    "print('Die transformierten ')\n"
   ]
  },
  {
   "cell_type": "markdown",
   "metadata": {},
   "source": [
    "Nun soll die Rotaionsmatrix $M$ bestimmt werden. Eine Rotationsmatrix in 2D ist allgemein gegeben durch \n",
    "$$\n",
    "R = \\begin{pmatrix}\n",
    "cos(\\alpha) & -sin(\\alpha) \\\\\n",
    "sin(\\alpha) & cos(\\alpha)\n",
    "\\end{pmatrix}.\n",
    "$$\n",
    "Die Transformation von Matrizen und Vektoren sähe dann so aus\n",
    "$$\n",
    "S' = R^{T} S R, \\quad \\vec{x}' = R^{T} \\vec{x}.\n",
    "$$\n",
    "Die Matrix $M$ ist in der Aufgabenstellung andersrum gewählt, sodass angesetzt werden kann \n",
    "$$\n",
    "M = \\begin{pmatrix}\n",
    "cos(\\alpha) & sin(\\alpha) \\\\\n",
    "-sin(\\alpha) & cos(\\alpha)\n",
    "\\end{pmatrix}.\n",
    "$$\n",
    "Von $M$ kann man jetzt fordern, dass sie $B$ diagonalisiert\n",
    "$$\n",
    "\\begin{pmatrix}\n",
    "\\frac{1}{{\\sigma'}_y^2} & 0 \\\\\n",
    "0 & \\frac{1}{{\\sigma'}_x^2}\n",
    "\\end{pmatrix}\n",
    "\\overset{!}{=} \n",
    "M B M^{T}.\n",
    "$$\n",
    "Das gibt eins nices überbestimmtes Gleichungssystem für den Winkel $\\alpha$. Rechnen nur mit dem Eintrag unten links. Das ergibt die Gleichung \n",
    "$$\n",
    "0 \\overset{!}{=}  \\sigma_y^2 sin(\\alpha)cos(\\alpha) + \\text{Cov}(x, y)(cos^2(\\alpha) - sin^2(\\alpha)) - \\sigma_x^2 sin(\\alpha) cos(\\alpha)\n",
    "$$\n",
    "Da kann man jetzt krasse Trigonometrie Skills rein stecken und erhält\n",
    "$$\n",
    " 0 = - \\frac{1}{2}sin(2\\alpha) (\\sigma_x^2 - \\sigma_y^2) - \\text{Cov}(x, y)cos(2\\alpha).\n",
    "$$\n",
    "Daraus dann \n",
    "$$\n",
    "\\alpha = \\frac{1}{2} \\text{arctan} \\left(-\\frac{2\\text{Cov}(x, y)}{\\sigma_x^2 - \\sigma_y^2}\\right).\n",
    "$$"
   ]
  },
  {
   "cell_type": "code",
   "execution_count": null,
   "metadata": {},
   "outputs": [],
   "source": [
    "def alpha(cov, sigx2, sigy2):\n",
    "    return 0.5 * np.arctan(- 2 * cov / (sigx2 - sigy2) )"
   ]
  },
  {
   "cell_type": "code",
   "execution_count": null,
   "metadata": {},
   "outputs": [],
   "source": [
    "print(f'alpha ist ca. {alpha(cov, sigx**2, sigy**2) * 180 / np.pi:.3f} Grad')"
   ]
  },
  {
   "cell_type": "code",
   "execution_count": null,
   "metadata": {},
   "outputs": [],
   "source": [
    "def rotate(x, alpha): \n",
    "    #function that rotates a given vector x by an angle alpha. \n",
    "    matrix = np.array([[np.cos(alpha), np.sin(alpha)], \n",
    "                       [-np.sin(alpha), np.cos(alpha)]] )\n",
    "    return matrix.dot(x)\n",
    "\n",
    "old_x_axis = np.array([1, 0])\n",
    "old_y_axis = np.array([0, 1])\n",
    "\n",
    "new_x_axis = rotate(old_x_axis, alpha(cov, sigx**2, sigy**2))\n",
    "new_y_axis = rotate(old_y_axis, alpha(cov, sigx**2, sigy**2))\n",
    "\n",
    "def linear_function_from_vector(x, vec, center): \n",
    "    # linear funtion along a vector x\n",
    "    return vec[1] / vec[0] * (x - center[0]) + center[1]\n",
    "\n"
   ]
  },
  {
   "cell_type": "code",
   "execution_count": null,
   "metadata": {},
   "outputs": [],
   "source": [
    "fig, ax = plt.subplots(1, 1, figsize = (20, 20))\n",
    "ax.set_aspect('equal')\n",
    "\n",
    "ax.scatter(gauss_2d[:, 0],gauss_2d[:, 1], s=5, alpha = 0.3, label = 'Data')\n",
    "\n",
    "xlim = ax.get_xlim()\n",
    "ylim = ax.get_ylim()\n",
    "ax.set_xlim(xlim)\n",
    "ax.set_ylim(ylim)\n",
    "#plt.axes('equal')\n",
    "xplot = np.linspace(xlim[0], xlim[1], 1000)\n",
    "\n",
    "new_y_axis_values = linear_function_from_vector(xplot, new_y_axis, (mu_x, mu_y))\n",
    "new_x_axis_values = linear_function_from_vector(xplot, new_x_axis, (mu_x, mu_y))\n",
    "\n",
    "ax.plot(xplot, \n",
    "        linear_function_from_vector(xplot, new_x_axis, (mu_x, mu_y)), \n",
    "        color = 'r', \n",
    "        linestyle = '--', \n",
    "        label = 'Hauptachsen')\n",
    "ax.plot(xplot, \n",
    "        linear_function_from_vector(xplot, new_y_axis, (mu_x, mu_y)), \n",
    "        color = 'r', \n",
    "        linestyle = '--')\n",
    "\n",
    "y = linear_function_from_vector(xplot, new_x_axis, (mu_x, mu_y))\n",
    "mask = np.sqrt((xplot - mu_x)**2 + (y - mu_y)**2) <= newsigma[1]\n",
    "ax.plot(xplot[mask], y[mask], linewidth = 5, color = 'k', label = '$\\sigma\\'$')\n",
    "\n",
    "y = linear_function_from_vector(xplot, new_y_axis, (mu_x, mu_y))\n",
    "mask = np.sqrt((xplot - mu_x)**2 + (y - mu_y)**2) <= newsigma[0]\n",
    "ax.plot(xplot[mask], y[mask], linewidth = 5, color = 'k')\n",
    "\n",
    "ax.legend()\n",
    "plt.show()"
   ]
  }
 ],
 "metadata": {
  "kernelspec": {
   "display_name": "Python 3",
   "language": "python",
   "name": "python3"
  },
  "language_info": {
   "codemirror_mode": {
    "name": "ipython",
    "version": 3
   },
   "file_extension": ".py",
   "mimetype": "text/x-python",
   "name": "python",
   "nbconvert_exporter": "python",
   "pygments_lexer": "ipython3",
   "version": "3.7.0"
  }
 },
 "nbformat": 4,
 "nbformat_minor": 2
}
