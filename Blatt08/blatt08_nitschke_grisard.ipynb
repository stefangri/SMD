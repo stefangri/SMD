{
 "cells": [
  {
   "cell_type": "markdown",
   "metadata": {},
   "source": [
    "# Blatt 8"
   ]
  },
  {
   "cell_type": "markdown",
   "metadata": {},
   "source": [
    "## Aufgabe 22: Fehlerfortpflanzung"
   ]
  },
  {
   "cell_type": "code",
   "execution_count": null,
   "metadata": {},
   "outputs": [],
   "source": [
    "import numpy as np\n",
    "import matplotlib.pyplot as plt\n",
    "import uncertainties.unumpy as unp\n",
    "from uncertainties import ufloat"
   ]
  },
  {
   "cell_type": "code",
   "execution_count": null,
   "metadata": {},
   "outputs": [],
   "source": [
    "sig0 =  0.2\n",
    "sig1 =  0.2\n",
    "rho  = -0.8\n",
    "cov = [[sig0**2, rho * sig0 * sig1], [rho * sig0 * sig1, sig1**2]]\n",
    "\n",
    "a = np.random.multivariate_normal(mean = [1, 1], cov = cov, size = 100)                                                  "
   ]
  },
  {
   "cell_type": "code",
   "execution_count": null,
   "metadata": {},
   "outputs": [],
   "source": [
    "plt.scatter(a[:, 0], a[:, 1], alpha = 0.9, s = 5)\n",
    "plt.xlabel('$a_0$')\n",
    "plt.ylabel('$a_1$')"
   ]
  },
  {
   "cell_type": "code",
   "execution_count": null,
   "metadata": {},
   "outputs": [],
   "source": [
    "x = np.linspace(-10, 10, 100)\n",
    "stdy = [np.std(a[:, 0] + a[:, 1] * x_i) for x_i in x]   \n",
    "plt.plot(x, stdy, label = 'Numerisch' )\n",
    "\n",
    "def exact(x):\n",
    "    return np.sqrt(sig0**2 + x**2 * sig1**2 + 2 * rho * sig0 * sig1 * x)\n",
    "plt.plot(x, exact(x), label = 'Exakt')\n",
    "plt.xlabel('$x$')\n",
    "plt.ylabel('$\\sigma_y$')\n",
    "plt.legend()\n",
    "plt.show()"
   ]
  },
  {
   "cell_type": "code",
   "execution_count": null,
   "metadata": {},
   "outputs": [],
   "source": [
    "x = [-3, 0, 3]\n",
    "for x_i in x:\n",
    "    y = a[:, 0] + a[:, 1] * x_i\n",
    "    print(f'x = {x_i}:\\t y = {np.mean(y)} +/- {np.std(y)}')"
   ]
  },
  {
   "cell_type": "markdown",
   "metadata": {},
   "source": [
    "Kommentar: Die numerischen Ergebnisse stimmen recht gut mit den exakt bestimmten Werten überein (siehe Handschriftliches). Die Präzision nimmt für große Beträge von $x$ ab (siehe Plot oben). Durch eine Vergrößerung des Samples könnte die Präzision gesteigert werden."
   ]
  },
  {
   "cell_type": "markdown",
   "metadata": {},
   "source": [
    "## Aufgabe 24: F(uckin')-Praktikum"
   ]
  },
  {
   "cell_type": "code",
   "execution_count": null,
   "metadata": {},
   "outputs": [],
   "source": [
    "Asymmetrie = np.matrix([-0.032, 0.01, 0.057,\n",
    "                       0.068, 0.076, 0.08, \n",
    "                       0.031, 0.005, -0.041, \n",
    "                       -0.09, -0.088, -0.074])\n",
    "Psi = np.arange(0, 331, 30)"
   ]
  },
  {
   "cell_type": "code",
   "execution_count": null,
   "metadata": {},
   "outputs": [],
   "source": [
    "A = np.matrix([np.cos(Psi / 180 * np.pi), np.sin(Psi / 180 * np.pi)]).T"
   ]
  },
  {
   "cell_type": "code",
   "execution_count": null,
   "metadata": {},
   "outputs": [],
   "source": [
    "a = (A.T * A).I * A.T * Asymmetrie.T\n",
    "a"
   ]
  },
  {
   "cell_type": "code",
   "execution_count": null,
   "metadata": {},
   "outputs": [],
   "source": [
    "Psi_plot = np.linspace(0, 360, 100)\n",
    "plt.plot(Psi, Asymmetrie.T, 'o', label = 'Daten')\n",
    "plt.xlabel('$\\Psi / °$')\n",
    "plt.ylabel('Asymmetrie')\n",
    "plt.plot(Psi_plot, \n",
    "         a[0, 0] * np.cos(Psi_plot / 180 * np.pi) + a[1,0] * np.sin(Psi_plot / 180 * np.pi), \n",
    "         label = 'Anpassung mit 1. Modell')\n",
    "plt.legend()"
   ]
  },
  {
   "cell_type": "code",
   "execution_count": null,
   "metadata": {},
   "outputs": [],
   "source": [
    "sigma = 0.011\n",
    "Cov = np.array(sigma**2 * (A.T * A).I)"
   ]
  },
  {
   "cell_type": "code",
   "execution_count": null,
   "metadata": {},
   "outputs": [],
   "source": [
    "rho = Cov[0, 1] / np.sqrt(Cov[0, 0] * Cov[1, 1])\n",
    "print(f'a1 = {ufloat(a[0, 0], np.sqrt(Cov[0, 0]))}')\n",
    "print(f'a2 = {ufloat(a[1, 0], np.sqrt(Cov[1, 1]))}')\n",
    "print(f'Korrelationskoeffizient: {rho}')"
   ]
  },
  {
   "cell_type": "markdown",
   "metadata": {},
   "source": [
    "Die Korrelation ist fast 0. Das Modell ist also gut gewählt, was letztlich an der Orthogoalität der Funktionen Sinus und Kosinus liegt."
   ]
  },
  {
   "cell_type": "code",
   "execution_count": null,
   "metadata": {},
   "outputs": [],
   "source": [
    "delta = unp.arctan(- a[1, 0] / a[0, 0])\n",
    "A0 = a[0, 0] / unp.cos(unp.arctan(- a[1, 0] / a[0, 0]))"
   ]
  },
  {
   "cell_type": "code",
   "execution_count": null,
   "metadata": {},
   "outputs": [],
   "source": [
    "a1 = a[0,0]\n",
    "a2 = a[1,0]\n",
    "\n",
    "J = np.matrix([[a1 / np.sqrt(a1**2 + a2**2), a2 / np.sqrt(a1**2 + a2**2)], \n",
    "     [a2 / (a1**2 + a2**2), -1 / (a1 + a2**2 / a1)]])\n",
    "Cov2 = J * Cov * J.T\n",
    "print(f'A_0 = {ufloat(A0, np.sqrt(Cov2[0, 0]))}')\n",
    "print(f'delta = {ufloat(delta, np.sqrt(Cov2[1, 1]))}')\n",
    "print(f'Korrelation: {Cov2[1, 0] / np.sqrt(Cov2[0, 0] * Cov2[1, 1]) }')"
   ]
  },
  {
   "cell_type": "markdown",
   "metadata": {},
   "source": [
    "Die Korrelation ist ebenfalls sehr klein aber etwa 10x größer als bei dem anderen Modell. "
   ]
  },
  {
   "cell_type": "code",
   "execution_count": null,
   "metadata": {},
   "outputs": [],
   "source": [
    "Psi_plot = np.linspace(0, 360, 100)\n",
    "plt.plot(Psi, Asymmetrie.T, 'o', label = 'Daten')\n",
    "plt.xlabel('$\\Psi / °$')\n",
    "plt.ylabel('Asymmetrie')\n",
    "plt.plot(Psi_plot, A0 * unp.cos(Psi_plot / 180 * np.pi + delta), label = 'Anpassung mit 2. Modell')\n",
    "plt.legend()"
   ]
  },
  {
   "cell_type": "code",
   "execution_count": null,
   "metadata": {},
   "outputs": [],
   "source": []
  }
 ],
 "metadata": {
  "kernelspec": {
   "display_name": "Python 3",
   "language": "python",
   "name": "python3"
  },
  "language_info": {
   "codemirror_mode": {
    "name": "ipython",
    "version": 3
   },
   "file_extension": ".py",
   "mimetype": "text/x-python",
   "name": "python",
   "nbconvert_exporter": "python",
   "pygments_lexer": "ipython3",
   "version": "3.7.0"
  }
 },
 "nbformat": 4,
 "nbformat_minor": 2
}
