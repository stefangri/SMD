{
 "cells": [
  {
   "cell_type": "markdown",
   "metadata": {},
   "source": [
    "# Blatt 5"
   ]
  },
  {
   "cell_type": "markdown",
   "metadata": {},
   "source": [
    "## Aufgabe 13"
   ]
  },
  {
   "cell_type": "code",
   "execution_count": null,
   "metadata": {},
   "outputs": [],
   "source": [
    "import numpy as np\n",
    "import matplotlib.pyplot as plt \n",
    "from pandas import DataFrame, Series\n",
    "from math import inf \n",
    "gamma = 2.7 \n",
    "np.random.seed(42)"
   ]
  },
  {
   "cell_type": "markdown",
   "metadata": {},
   "source": [
    "__a)__"
   ]
  },
  {
   "cell_type": "code",
   "execution_count": null,
   "metadata": {},
   "outputs": [],
   "source": [
    "def PDF(E):\n",
    "    return (gamma - 1) * E**(- gamma)\n",
    "\n",
    "def CDF(E):\n",
    "    return 1 - E**(1 - gamma) \n",
    "\n",
    "def INV_CDF(y):\n",
    "    return (1 - y)**(1 / (1 - gamma))"
   ]
  },
  {
   "cell_type": "code",
   "execution_count": null,
   "metadata": {},
   "outputs": [],
   "source": [
    "y = np.random.uniform(0, 1, int(1e5))"
   ]
  },
  {
   "cell_type": "code",
   "execution_count": null,
   "metadata": {},
   "outputs": [],
   "source": [
    "Energy = INV_CDF(y)"
   ]
  },
  {
   "cell_type": "markdown",
   "metadata": {},
   "source": [
    "__b)__"
   ]
  },
  {
   "cell_type": "code",
   "execution_count": null,
   "metadata": {},
   "outputs": [],
   "source": [
    "def P(E):\n",
    "    return (1 - np.exp(-E / 2))**3"
   ]
  },
  {
   "cell_type": "code",
   "execution_count": null,
   "metadata": {},
   "outputs": [],
   "source": [
    "uniform = np.random.uniform(size = len(y))\n",
    "AcceptanceMask = np.array([uniform < P(Energy) for uniform, \n",
    "                           Energy in zip(uniform, Energy)])"
   ]
  },
  {
   "cell_type": "code",
   "execution_count": null,
   "metadata": {},
   "outputs": [],
   "source": [
    "plot_energy = np.logspace(0, 5, 1000)\n",
    "plt.plot(plot_energy, PDF(plot_energy) * P(plot_energy), 'r-', label = 'PDF')\n",
    "plt.hist(Energy[AcceptanceMask], bins = np.logspace(0, 5, 50), \n",
    "         density = True, histtype = 'step', \n",
    "         label = 'Mit Akzeptanz')\n",
    "plt.hist(Energy, bins = np.logspace(0, 5, 50), density = True, \n",
    "         histtype = 'step', label = 'Ohne Akzeptanz')\n",
    "plt.xscale('log')\n",
    "plt.yscale('log')\n",
    "plt.legend()\n",
    "plt.show()"
   ]
  },
  {
   "cell_type": "markdown",
   "metadata": {},
   "source": [
    "Kommentar: Man erkennt, dass ab einem Energiewert von ca. $1000\\,$TeV keine Bins mehr befüllt werden. Dies liegt an der endlichen Länge des gleichverteilten Samples, das für die Rückweisungsmethode verwendet wird. Die unten abgebildete CDF zeigt, dass Hohe Werte für $E$ aus Werten nahe 1 der Gleichverteilung hervorgehen. "
   ]
  },
  {
   "cell_type": "code",
   "execution_count": null,
   "metadata": {},
   "outputs": [],
   "source": [
    "plt.plot(plot_energy, CDF(plot_energy))\n",
    "plt.xscale('log')\n",
    "plt.xlabel('$E$')\n",
    "plt.title('CDF')\n",
    "plt.show()"
   ]
  },
  {
   "cell_type": "code",
   "execution_count": null,
   "metadata": {},
   "outputs": [],
   "source": [
    "data = DataFrame()\n",
    "data['Energy'] = Series(Energy)\n",
    "data['AcceptanceMask'] = Series(AcceptanceMask)"
   ]
  },
  {
   "cell_type": "markdown",
   "metadata": {},
   "source": [
    "__Polarmethode__: Erzeugt eine Standardnormalverteilung"
   ]
  },
  {
   "cell_type": "code",
   "execution_count": null,
   "metadata": {},
   "outputs": [],
   "source": [
    "def polar_method(size):\n",
    "    v1 = 2 * np.random.uniform(0, 1, size) - 1\n",
    "    v2 = 2 * np.random.uniform(0, 1, size) - 1\n",
    "    s = v1**2 + v2**2\n",
    "    while (True in (s >= 1)):\n",
    "        v1[s >= 1] = 2 * np.random.uniform(0, 1, len(s[s >= 1])) - 1\n",
    "        v2[s >= 1] = 2 * np.random.uniform(0, 1, len(s[s >= 1])) - 1\n",
    "        s[s >= 1]  = v1[s >= 1]**2 + v2[s >= 1]**2\n",
    "    \n",
    "    x1 = v1 * np.sqrt(- 2 / s * np.log(s))\n",
    "    x2 = v2 * np.sqrt(- 2 / s * np.log(s))\n",
    "    return x1, x2 "
   ]
  },
  {
   "cell_type": "markdown",
   "metadata": {},
   "source": [
    "Die Funktion 'random_gaus' erzeugt eine 1- oder 2-dim Gaußverteilung, indem die Standardnormalverteilung aus \n",
    "der Polarmethode transformiert wird. Zusätzlich wird ermöglicht ausschließlich Werte aus einem gegebenen Bereich (z.B. Detektor) zu ziehen."
   ]
  },
  {
   "cell_type": "code",
   "execution_count": null,
   "metadata": {},
   "outputs": [],
   "source": [
    "def random_gaus(mu, sig, size, rho = 0, two_dim = False, lim = (0, inf)):\n",
    "    x_std, y_std = polar_method(size) \n",
    "    x = np.sqrt(1 - rho**2) * sig * x_std + rho * sig * y_std + mu \n",
    "    #formula for x transformation\n",
    "    \n",
    "    mask = ((x < lim[0]) | (x > lim[1]))  #generate new numbers, when out of limit\n",
    "    while (True in mask):\n",
    "        x_std[mask], y_std[mask] = polar_method(len(x[mask]))\n",
    "        x[mask] = np.sqrt(1 - rho**2) * sig * x_std[mask] + rho * sig * y_std[mask] + mu    \n",
    "        mask = ((x < lim[0]) | (x > lim[1]))\n",
    "        \n",
    "    if two_dim:\n",
    "        y = sig * y_std + mu\n",
    "        #formula for y transformation\n",
    "        \n",
    "        mask = ((y < lim[0]) | (y > lim[1]))\n",
    "        while (True in mask):\n",
    "            x_std[mask], y_std[mask] = polar_method(len(y[mask]))\n",
    "            y[mask] = sig * y_std[mask] + mu\n",
    "            mask = ((y < lim[0]) | (y > lim[1]))\n",
    "        return x, y\n",
    "    \n",
    "    else:\n",
    "        return x       "
   ]
  },
  {
   "cell_type": "markdown",
   "metadata": {},
   "source": [
    "__c)__"
   ]
  },
  {
   "cell_type": "code",
   "execution_count": null,
   "metadata": {},
   "outputs": [],
   "source": [
    "def hits(E):\n",
    "\n",
    "    NumberOfHits = round(random_gaus(mu = 10*E, sig = 2*E, \n",
    "                                     size = 1, lim = (0, inf))[0], 0)\n",
    "    return NumberOfHits"
   ]
  },
  {
   "cell_type": "code",
   "execution_count": null,
   "metadata": {},
   "outputs": [],
   "source": [
    "NumberOfHits = [hits(E) for E in Energy]"
   ]
  },
  {
   "cell_type": "code",
   "execution_count": null,
   "metadata": {},
   "outputs": [],
   "source": [
    "data['NumberOfHits'] = Series(NumberOfHits)"
   ]
  },
  {
   "cell_type": "markdown",
   "metadata": {},
   "source": [
    "__d)__"
   ]
  },
  {
   "cell_type": "code",
   "execution_count": null,
   "metadata": {},
   "outputs": [],
   "source": [
    "def location(N, center):\n",
    "    x = random_gaus(mu = center, sig = 1 / np.log10(N + 1), \n",
    "                    rho = 0, size = 1, lim = (0, 10))[0] \n",
    "    return x"
   ]
  },
  {
   "cell_type": "code",
   "execution_count": null,
   "metadata": {},
   "outputs": [],
   "source": [
    "x = [location(N, 7) for N in NumberOfHits]\n",
    "y = [location(N, 3) for N in NumberOfHits]"
   ]
  },
  {
   "cell_type": "code",
   "execution_count": null,
   "metadata": {},
   "outputs": [],
   "source": [
    "data['x'] = Series(x)\n",
    "data['y'] = Series(y)"
   ]
  },
  {
   "cell_type": "code",
   "execution_count": null,
   "metadata": {},
   "outputs": [],
   "source": [
    "plt.hist2d(x, y, bins = [40, 40], range = [[0, 10], [0, 10]])\n",
    "plt.xlabel('x')\n",
    "plt.ylabel('y')\n",
    "plt.show()"
   ]
  },
  {
   "cell_type": "code",
   "execution_count": null,
   "metadata": {},
   "outputs": [],
   "source": [
    "data.to_hdf('NeutrinoMC.hdf5', key = 'Signal')"
   ]
  },
  {
   "cell_type": "markdown",
   "metadata": {},
   "source": [
    "__e)__"
   ]
  },
  {
   "cell_type": "code",
   "execution_count": null,
   "metadata": {},
   "outputs": [],
   "source": [
    "noise = DataFrame()"
   ]
  },
  {
   "cell_type": "code",
   "execution_count": null,
   "metadata": {},
   "outputs": [],
   "source": [
    "rho = 0.5 \n",
    "sig = 3\n",
    "mu = 5\n",
    "\n",
    "x, y = random_gaus(mu = 5, sig = 3, two_dim = True, \n",
    "                   size = int(1e7), rho = 0.5, \n",
    "                   lim = (0, 10))\n",
    "\n",
    "noise['x'] = Series(x)\n",
    "noise['y'] = Series(y)"
   ]
  },
  {
   "cell_type": "code",
   "execution_count": null,
   "metadata": {},
   "outputs": [],
   "source": [
    "plt.hist2d(x, y, bins = [30, 30], range = [[-3, 13], [-3, 13]])\n",
    "plt.show()"
   ]
  },
  {
   "cell_type": "code",
   "execution_count": null,
   "metadata": {},
   "outputs": [],
   "source": [
    "log_NumberOfHits = random_gaus(mu = 2, sig = 1, size = int(1e7))\n",
    "NumberOfHits_noise = np.round(10**log_NumberOfHits, 0)"
   ]
  },
  {
   "cell_type": "code",
   "execution_count": null,
   "metadata": {},
   "outputs": [],
   "source": [
    "plt.hist(log_NumberOfHits, bins = 20, histtype='step')\n",
    "plt.show()"
   ]
  },
  {
   "cell_type": "code",
   "execution_count": null,
   "metadata": {},
   "outputs": [],
   "source": [
    "noise['NumberOfHits_noise'] = Series(NumberOfHits_noise)\n",
    "noise.to_hdf('NeutrinoMC.hdf5', key = 'Background')"
   ]
  },
  {
   "cell_type": "markdown",
   "metadata": {},
   "source": [
    "## Aufgabe 14"
   ]
  },
  {
   "cell_type": "code",
   "execution_count": null,
   "metadata": {},
   "outputs": [],
   "source": [
    "from sklearn.datasets import make_blobs\n",
    "from matplotlib.colors import ListedColormap\n",
    "discrete_cmap = ListedColormap([(0.8, 0.2, 0.3), (0.1, 0.8, 0.3), (0, 0.4, 0.8)])"
   ]
  },
  {
   "cell_type": "code",
   "execution_count": null,
   "metadata": {},
   "outputs": [],
   "source": [
    "X, y = make_blobs(n_samples=1000, centers=2, n_features = 4, random_state=0)\n",
    "plt.scatter(X[:, 0], X[:, 1], c=y, s=50, cmap=discrete_cmap)"
   ]
  },
  {
   "cell_type": "code",
   "execution_count": null,
   "metadata": {},
   "outputs": [],
   "source": [
    "# print(X.shape)\n",
    "c = np.cov(X, rowvar=False)\n",
    "\n",
    "l, W = np.linalg.eigh(c)\n",
    "\n",
    "# Reihenfolge umkehren. Größte Eigenwerte zuerst.\n",
    "l = l[::-1]\n",
    "W = W[:, ::-1]\n",
    "\n",
    "print(f'Die Eigenwerte lauten: {l}')"
   ]
  },
  {
   "cell_type": "markdown",
   "metadata": {},
   "source": [
    "Die Eigenwerte definieren die Eigenräume, auf die der Datensatz projeziert werden kann. Die Eigenwerte geben die \n",
    "Varianz der durch sie definierten Hauptkomponenten an. Da die Varianz maximiert werden soll, werden die Achsen der größten Eigenwerte verwendet und der Rest verworfen. Hier ist es sinnvoll sich nur auf die Achse mit Eigenwert $\\sim \\!18$ zu beschränken. "
   ]
  },
  {
   "cell_type": "code",
   "execution_count": null,
   "metadata": {},
   "outputs": [],
   "source": [
    "from sklearn.decomposition import PCA\n",
    "\n",
    "pca = PCA(n_components = 4)\n",
    "transformed = pca.fit_transform(X)\n",
    "plt.scatter(transformed[:, 0], transformed[:, 1], c=y, cmap = discrete_cmap)\n",
    "plt.show()"
   ]
  },
  {
   "cell_type": "code",
   "execution_count": null,
   "metadata": {},
   "outputs": [],
   "source": [
    "fig = plt.figure(figsize = (14, 10))\n",
    "for i in range(4):\n",
    "    ax = plt.subplot(221 + i)\n",
    "    ax.hist(transformed[:, i], bins = 15,\n",
    "            histtype = 'step', \n",
    "            label = f'$x_{i + 1}$,\\n $EW = {round(l[i], 2)}$')\n",
    "    ax.legend()    \n",
    "plt.show()\n",
    "\n"
   ]
  },
  {
   "cell_type": "markdown",
   "metadata": {},
   "source": [
    "Kommentar: Es zeigt sich, dass die Hauptachse mit dem größten Eigenwert tatsächlich die beste zur Trennung der Daten ist. "
   ]
  }
 ],
 "metadata": {
  "kernelspec": {
   "display_name": "Python 3",
   "language": "python",
   "name": "python3"
  },
  "language_info": {
   "codemirror_mode": {
    "name": "ipython",
    "version": 3
   },
   "file_extension": ".py",
   "mimetype": "text/x-python",
   "name": "python",
   "nbconvert_exporter": "python",
   "pygments_lexer": "ipython3",
   "version": "3.7.0"
  }
 },
 "nbformat": 4,
 "nbformat_minor": 2
}
