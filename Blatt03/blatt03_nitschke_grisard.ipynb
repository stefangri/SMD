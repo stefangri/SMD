{
 "cells": [
  {
   "cell_type": "markdown",
   "metadata": {},
   "source": [
    "# Blatt 3\n",
    "## Aufgabe 8: Importance Sampling"
   ]
  },
  {
   "cell_type": "code",
   "execution_count": null,
   "metadata": {},
   "outputs": [],
   "source": [
    "import numpy as np\n",
    "import matplotlib.pyplot as plt"
   ]
  },
  {
   "cell_type": "markdown",
   "metadata": {},
   "source": [
    "__a)__ Die Planck-Verteilung:"
   ]
  },
  {
   "cell_type": "code",
   "execution_count": null,
   "metadata": {},
   "outputs": [],
   "source": [
    "def Planck(x, N = 15 / np.pi**4): \n",
    "    return N * x**3 / (np.exp(x) - 1)"
   ]
  },
  {
   "cell_type": "markdown",
   "metadata": {},
   "source": [
    "Bestimme zunächst numerisch das Maximum:"
   ]
  },
  {
   "cell_type": "code",
   "execution_count": null,
   "metadata": {},
   "outputs": [],
   "source": [
    "from scipy.optimize import brentq \n",
    "\n",
    "N = 15 / np.pi**4\n",
    "\n",
    "def diff_Planck(x):\n",
    "    return N * (3 * x**2 * (np.exp(x) - 1) - x**3 * np.exp(x)) / (np.exp(x) - 1)**2 \n",
    "\n",
    "xmax = brentq(diff_Planck, 1, 4)\n",
    "ymax = Planck(xmax)"
   ]
  },
  {
   "cell_type": "markdown",
   "metadata": {},
   "source": [
    "Erzeuge 2 gleichverteilte Datensätze der Länge 5e4, also insgesamt 25e8 Zahlen:"
   ]
  },
  {
   "cell_type": "code",
   "execution_count": null,
   "metadata": {},
   "outputs": [],
   "source": [
    "xcut = 20\n",
    "totnumber = 500000\n",
    "uniformx = np.random.uniform(0, xcut, totnumber)\n",
    "uniformy = np.random.uniform(0, ymax, totnumber)"
   ]
  },
  {
   "cell_type": "code",
   "execution_count": null,
   "metadata": {},
   "outputs": [],
   "source": [
    "def Rejection_sampling(u1, u2, f, length = 100000):\n",
    "    sample = u1[u2 <= f(u1)]\n",
    "    assert len(sample) >= length\n",
    "    return sample[np.random.randint(0, len(sample), length)]\n",
    "    "
   ]
  },
  {
   "cell_type": "code",
   "execution_count": null,
   "metadata": {},
   "outputs": [],
   "source": [
    "planck_sample_a = Rejection_sampling(uniformx, uniformy, Planck)"
   ]
  },
  {
   "cell_type": "markdown",
   "metadata": {},
   "source": [
    "__b)__ Bestimme zunächst den Schnittpunkt der Majoranten x_s:"
   ]
  },
  {
   "cell_type": "code",
   "execution_count": null,
   "metadata": {},
   "outputs": [],
   "source": [
    "def func(x, N = 15 / np.pi**4, xmax = xmax):\n",
    "    return ymax - 200 * N * x**(-0.1) * np.exp(-x**(0.9)) \n",
    "\n",
    "x_s = brentq(func, 1, 6)\n",
    "x_s"
   ]
  },
  {
   "cell_type": "code",
   "execution_count": null,
   "metadata": {},
   "outputs": [],
   "source": [
    "def func_g(x, x_s = x_s, N = 15 / np.pi**4):\n",
    "    y = np.zeros(len(x))\n",
    "    y[x <= x_s] = Planck(xmax)\n",
    "    y[x > x_s] = 200 * N * x[x >= x_s]**(-0.1) * np.exp(-x[x >= x_s]**(0.9))\n",
    "    return y"
   ]
  },
  {
   "cell_type": "code",
   "execution_count": null,
   "metadata": {},
   "outputs": [],
   "source": [
    "def inv_G(y, x_s = x_s, xcut = xcut):\n",
    "    return (- np.log(np.exp(-x_s**(0.9)) \n",
    "                     + y * (np.exp(-xcut**(0.9)) \n",
    "                            - np.exp(-x_s**(0.9))) ))**(10 / 9)\n",
    "\n",
    "norm = x_s * ymax + 2000 / 9 * N * (np.exp(-x_s**(9/10)) - np.exp(-xcut**(9/10)) )\n",
    "                                                                \n",
    "\n",
    "totnumber = 200000\n",
    "part_uniform = int(x_s * ymax / norm * totnumber)\n",
    "\n",
    "uniformx = np.random.uniform(0, 1, totnumber - part_uniform)\n",
    "uniformx2 = np.random.uniform(0, x_s, part_uniform)\n",
    "uniformy = np.random.uniform(0, 1, totnumber)\n",
    "uniformx = np.concatenate([uniformx2, inv_G(uniformx)])\n",
    "len(uniformx)"
   ]
  },
  {
   "cell_type": "code",
   "execution_count": null,
   "metadata": {},
   "outputs": [],
   "source": [
    "plt.clf()\n",
    "xplot = np.linspace(0.01, xcut, 1000)\n",
    "plt.plot(xplot, func_g(xplot))\n",
    "plt.plot(xplot, Planck(xplot))\n",
    "plt.scatter(uniformx, func_g(uniformx) * uniformy, marker = '.', alpha = 0.1)\n",
    "plt.show()"
   ]
  },
  {
   "cell_type": "code",
   "execution_count": null,
   "metadata": {},
   "outputs": [],
   "source": [
    "planck_sample_b = Rejection_sampling(uniformx, \n",
    "                                     func_g(uniformx) * uniformy, \n",
    "                                     Planck)"
   ]
  },
  {
   "cell_type": "code",
   "execution_count": null,
   "metadata": {},
   "outputs": [],
   "source": [
    "fig = plt.figure(figsize = (20, 10))\n",
    "\n",
    "fig.add_subplot(121)\n",
    "plt.hist(planck_sample_a, bins = 30, histtype = 'step',\n",
    "         density = True, \n",
    "         label = 'Aufgabenteil a)', \n",
    "         linewidth = 3)\n",
    "plt.plot(xplot, Planck(xplot), \n",
    "         color = 'r', linewidth = 3)\n",
    "plt.legend()\n",
    "\n",
    "fig.add_subplot(122)\n",
    "plt.hist(planck_sample_b, bins = 30, histtype = 'step',\n",
    "         density = True, \n",
    "         label = 'Aufgabenteil b)', \n",
    "         linewidth = 3)\n",
    "plt.plot(xplot, Planck(xplot), \n",
    "         color = 'r', linewidth = 3)\n",
    "plt.legend()\n",
    "\n",
    "plt.show()"
   ]
  }
 ],
 "metadata": {
  "kernelspec": {
   "display_name": "Python 3",
   "language": "python",
   "name": "python3"
  },
  "language_info": {
   "codemirror_mode": {
    "name": "ipython",
    "version": 3
   },
   "file_extension": ".py",
   "mimetype": "text/x-python",
   "name": "python",
   "nbconvert_exporter": "python",
   "pygments_lexer": "ipython3",
   "version": "3.7.0"
  }
 },
 "nbformat": 4,
 "nbformat_minor": 2
}
