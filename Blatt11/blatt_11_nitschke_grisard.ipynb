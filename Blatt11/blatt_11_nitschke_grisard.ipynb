{
 "cells": [
  {
   "cell_type": "markdown",
   "metadata": {},
   "source": [
    "## Aufgabe 32: $\\chi^2$-Test"
   ]
  },
  {
   "cell_type": "markdown",
   "metadata": {},
   "source": [
    "Für den $\\chi^2$-Test wird jeweils folgende Größe berechnet:\n",
    "$$\n",
    "\\chi^2 = \\sum \\frac{(E_i - E_H)^2}{\\sigma^2} \n",
    "$$\n",
    "$E_H$ bezeichnet den Energiewert der Hypothese. Die Standardabweichung $\\sigma$ muss aus den Daten geschätzt werden. Hierfür wird $\\sigma = 0.5$ angenommen."
   ]
  },
  {
   "cell_type": "code",
   "execution_count": null,
   "metadata": {},
   "outputs": [],
   "source": [
    "import numpy as np\n",
    "import matplotlib.pyplot as plt"
   ]
  },
  {
   "cell_type": "code",
   "execution_count": null,
   "metadata": {},
   "outputs": [],
   "source": [
    "E = np.array([31.6, 31.3, 32.2, 30.8, 31.2, 31.3, 31.9])"
   ]
  },
  {
   "cell_type": "markdown",
   "metadata": {},
   "source": [
    "__a)__"
   ]
  },
  {
   "cell_type": "code",
   "execution_count": null,
   "metadata": {},
   "outputs": [],
   "source": [
    "E_A = 31.3\n",
    "sig = 0.5\n",
    "\n",
    "chi2_A = np.sum( ( E - E_A )**2 / sig**2 )\n",
    "chi2_A"
   ]
  },
  {
   "cell_type": "markdown",
   "metadata": {},
   "source": [
    "__b)__"
   ]
  },
  {
   "cell_type": "code",
   "execution_count": null,
   "metadata": {},
   "outputs": [],
   "source": [
    "E_B = 30.7\n",
    "chi2_B = np.sum( ( E - E_B )**2 / sig**2 )\n",
    "chi2_B"
   ]
  },
  {
   "cell_type": "code",
   "execution_count": null,
   "metadata": {},
   "outputs": [],
   "source": [
    "plt.axhline(y = E_A, label = 'Hypothese A', color = 'g')\n",
    "plt.axhline(y = E_B, label = 'Hypothese B', color = 'r')\n",
    "plt.errorbar(x = np.arange(7), y = E,yerr = 0.5, \n",
    "             label = 'Messwerte', \n",
    "             linestyle = '', marker = 'o', color = 'k')\n",
    "plt.ylabel('Energie / meV')\n",
    "plt.legend()\n",
    "plt.xticks([])\n",
    "None"
   ]
  },
  {
   "cell_type": "markdown",
   "metadata": {},
   "source": [
    "In $\\chi^2$-Tabelle findet man bei $7 - 1 = 6$ Freiheitsgraden für 5% Signifikanz den Wert $12,59$. Eine Hypothese wird daher abgelehnt, wenn $\\chi^2 > 12,59$ ist. Daher kann Hypothese B verworfen werden. Hypothese A kann auf Grundlage der gefundenen Daten nicht verworfen werden. \n",
    "\n",
    "Es wurde die Varianz der theoretischen Verteilung geschätzt, daher muss die Zahl der Freiheitsgrade um 1 verringert werden. Hier läge der $\\chi^2$-Wert bei $11,07$. Es ändert sich somit nichts am Ergebnis."
   ]
  },
  {
   "cell_type": "markdown",
   "metadata": {},
   "source": [
    "## Aufgabe 33"
   ]
  },
  {
   "cell_type": "markdown",
   "metadata": {},
   "source": [
    "__a)__ Wähle $\\mu = \\lambda$ und $\\sigma = \\sqrt{\\lambda}$"
   ]
  },
  {
   "cell_type": "markdown",
   "metadata": {},
   "source": [
    "__b)__ + __c)__ + __d)__ Da die Bestimmung des Wertes für $\\lambda$ durch einen Zufallsprozess erfolgt, wird der Mittelwert aus 100 Durchläufen verwendet."
   ]
  },
  {
   "cell_type": "code",
   "execution_count": null,
   "metadata": {},
   "outputs": [],
   "source": [
    "for alpha in [0.05, 0.025, 0.001]:\n",
    "    print(f'Für die Signifikanz alpha = {alpha}')\n",
    "    K_alpha = np.sqrt(np.log(2 / alpha) / 2 )\n",
    "\n",
    "    lambda_accepted_list = []\n",
    "    for i in range(100):\n",
    "        for lam in np.arange(1, 51):\n",
    "            #sample gauss and poisson distribution\n",
    "            gaus_sample = np.round(np.random.normal(lam, np.sqrt(lam),\n",
    "                                                    size=10000), 0)\n",
    "            \n",
    "            poisson_sample = np.random.poisson(lam, size = 10000)\n",
    "            \n",
    "            \n",
    "            #binning\n",
    "            gaus_hist, gaus_edges = np.histogram(gaus_sample, bins = 100, \n",
    "                                         range= (lam - 5 * np.sqrt(lam), \n",
    "                                                 lam + 5 * np.sqrt(lam)))\n",
    "            \n",
    "            poisson_hist, poisson_edges = np.histogram(poisson_sample, bins = 100, \n",
    "                                         range= (lam - 5 * np.sqrt(lam), \n",
    "                                                 lam + 5 * np.sqrt(lam))) \n",
    "                \n",
    "                \n",
    "            #create the cdfs    \n",
    "            gaus_cdf = np.array([np.sum(gaus_hist[:i + 1]) / len(gaus_sample) \n",
    "                                 for i in range(100)])\n",
    "            poisson_cdf = np.array([np.sum(poisson_hist[:i + 1]) / len(poisson_sample) \n",
    "                                    for i in range(100)])\n",
    "            \n",
    "            \n",
    "            #calculate the max distance between cdfs\n",
    "            d_max = np.max(np.abs(gaus_cdf - poisson_cdf))\n",
    "            \n",
    "            \n",
    "            #test condition\n",
    "            lambda_accepted = np.sqrt(len(gaus_sample)/2) * d_max < K_alpha\n",
    "            if lambda_accepted:\n",
    "                lambda_accepted_list.append(lam)\n",
    "                break\n",
    "                \n",
    "    print(f'kann ab lambda = {round(np.mean(lambda_accepted_list), 0)} +/- {round(np.std(lambda_accepted_list), 0)}... \\n')\n",
    "print('...die Hypothese, dass beide Verteilungen gleich sind, nicht mehr verworfen werden.')"
   ]
  },
  {
   "cell_type": "markdown",
   "metadata": {},
   "source": [
    "## Aufgabe 34: Ballon-Experiment"
   ]
  },
  {
   "cell_type": "markdown",
   "metadata": {},
   "source": [
    "__a)__ Berechnungen/Herleitungen handschriftlich."
   ]
  },
  {
   "cell_type": "code",
   "execution_count": null,
   "metadata": {},
   "outputs": [],
   "source": [
    "counts = np.array([4135, 4202, 4203, 4218, 4227, 4231, 4310])\n",
    "days = np.arange(1, 8)"
   ]
  },
  {
   "cell_type": "markdown",
   "metadata": {},
   "source": [
    "Wahrscheinlichste Zählrate entspricht dem Mittelwert"
   ]
  },
  {
   "cell_type": "code",
   "execution_count": null,
   "metadata": {},
   "outputs": [],
   "source": [
    "c_mean = round(np.mean(counts), 0)\n",
    "print(c_mean)"
   ]
  },
  {
   "cell_type": "markdown",
   "metadata": {},
   "source": [
    "__b)__ Bestimme Parameter numerisch"
   ]
  },
  {
   "cell_type": "code",
   "execution_count": null,
   "metadata": {},
   "outputs": [],
   "source": [
    "from scipy.optimize import fmin"
   ]
  },
  {
   "cell_type": "code",
   "execution_count": null,
   "metadata": {},
   "outputs": [],
   "source": [
    "def llh(params):\n",
    "    A = params[0]\n",
    "    B = params[1]\n",
    "    return + len(counts) * B + A * np.sum(days) - np.sum(counts * np.log(A * days + B))"
   ]
  },
  {
   "cell_type": "code",
   "execution_count": null,
   "metadata": {},
   "outputs": [],
   "source": [
    "lin_model = fmin(llh, [0, 4000]) \n",
    "print(f'Parameter für lineares Modell: {lin_model}')"
   ]
  },
  {
   "cell_type": "code",
   "execution_count": null,
   "metadata": {},
   "outputs": [],
   "source": [
    "plt.plot(days, counts, 'ko', label = 'Daten')\n",
    "plt.axhline(y = np.mean(counts), label = 'Konstantes Modell', color = 'g')\n",
    "plt.plot(days, lin_model[0] * days + lin_model[1], \n",
    "         color = 'r', label = 'Lineares Modell') \n",
    "plt.xlabel('Tag')\n",
    "plt.ylabel('Counts')\n",
    "plt.legend()\n",
    "None"
   ]
  },
  {
   "cell_type": "markdown",
   "metadata": {},
   "source": [
    "__c)__ Test ist der Quotient aus den einzelnen Likelihoods."
   ]
  },
  {
   "cell_type": "code",
   "execution_count": null,
   "metadata": {},
   "outputs": [],
   "source": [
    "gamma = np.prod((c_mean / (lin_model[0] * days + lin_model[1]))**counts \n",
    "                * np.exp(-c_mean + lin_model[0] * days + lin_model[1]))"
   ]
  },
  {
   "cell_type": "markdown",
   "metadata": {},
   "source": [
    "Aus $\\Gamma$ kann die $\\chi^2$ verteilte Größe $-2ln(\\Gamma)$ berechnet werden."
   ]
  },
  {
   "cell_type": "code",
   "execution_count": null,
   "metadata": {},
   "outputs": [],
   "source": [
    "- 2 * np.log(gamma)"
   ]
  },
  {
   "cell_type": "markdown",
   "metadata": {},
   "source": [
    "Aus Vergleich mit einer Tabelle ergibt dies eine Signifikanz von etwa 5%. "
   ]
  },
  {
   "cell_type": "markdown",
   "metadata": {},
   "source": [
    "__d)__ Analoges Vorgehen:"
   ]
  },
  {
   "cell_type": "code",
   "execution_count": null,
   "metadata": {},
   "outputs": [],
   "source": [
    "counts_d = np.array([4135, 4202, 4203, 4218, 4227, 4231, 4310, 4402])\n",
    "days_d = np.append(days, 14)"
   ]
  },
  {
   "cell_type": "code",
   "execution_count": null,
   "metadata": {},
   "outputs": [],
   "source": [
    "c_mean_d = round(np.mean(counts_d), 0)"
   ]
  },
  {
   "cell_type": "code",
   "execution_count": null,
   "metadata": {},
   "outputs": [],
   "source": [
    "def llh(params):\n",
    "    A = params[0]\n",
    "    B = params[1]\n",
    "    return + len(counts_d) * B + A * np.sum(days_d) - np.sum(counts_d * np.log(A * days_d + B))"
   ]
  },
  {
   "cell_type": "code",
   "execution_count": null,
   "metadata": {},
   "outputs": [],
   "source": [
    "lin_model_d = fmin(llh, [0, counts_d[0]]) \n",
    "print(f'Parameter für lineares Modell: {lin_model_d}')"
   ]
  },
  {
   "cell_type": "code",
   "execution_count": null,
   "metadata": {},
   "outputs": [],
   "source": [
    "plt.plot(days_d, counts_d, 'ko', label = 'Daten')\n",
    "plt.axhline(y = c_mean_d, label = 'Konstantes Modell', color = 'g')\n",
    "plt.plot(days_d, lin_model_d[0] * days_d + lin_model_d[1], \n",
    "         color = 'r', label = 'Lineares Modell') \n",
    "plt.xlabel('Tag')\n",
    "plt.ylabel('Counts')\n",
    "plt.legend()\n",
    "None"
   ]
  },
  {
   "cell_type": "code",
   "execution_count": null,
   "metadata": {},
   "outputs": [],
   "source": [
    "gamma_d = np.prod((c_mean_d / (lin_model_d[0] * days_d + lin_model_d[1]))**counts_d * np.exp(-c_mean_d + lin_model_d[0] * days_d + lin_model_d[1]))"
   ]
  },
  {
   "cell_type": "code",
   "execution_count": null,
   "metadata": {},
   "outputs": [],
   "source": [
    "- 2 * np.log(gamma_d)"
   ]
  },
  {
   "cell_type": "markdown",
   "metadata": {},
   "source": [
    "Aus Vergleich mit einer Tabelle ergibt dies eine Signifikanz von etwa 0.1%. "
   ]
  },
  {
   "cell_type": "markdown",
   "metadata": {},
   "source": [
    "## Aufgabe 36: Zwei Histogramme"
   ]
  },
  {
   "cell_type": "markdown",
   "metadata": {},
   "source": [
    "Berechnungen handschriftlich."
   ]
  },
  {
   "cell_type": "markdown",
   "metadata": {},
   "source": [
    "__e)__  "
   ]
  },
  {
   "cell_type": "code",
   "execution_count": null,
   "metadata": {},
   "outputs": [],
   "source": [
    "n = np.array([111, 188, 333])\n",
    "m = np.array([15, 36, 30])\n",
    "N = np.sum(n)\n",
    "M = np.sum(m)"
   ]
  },
  {
   "cell_type": "code",
   "execution_count": null,
   "metadata": {},
   "outputs": [],
   "source": [
    "chi2 = 1 / N / M * np.sum((N * m - M * n)**2 / (n + m))"
   ]
  },
  {
   "cell_type": "code",
   "execution_count": null,
   "metadata": {},
   "outputs": [],
   "source": [
    "chi2"
   ]
  },
  {
   "cell_type": "code",
   "execution_count": null,
   "metadata": {},
   "outputs": [],
   "source": []
  }
 ],
 "metadata": {
  "kernelspec": {
   "display_name": "Python 3",
   "language": "python",
   "name": "python3"
  },
  "language_info": {
   "codemirror_mode": {
    "name": "ipython",
    "version": 3
   },
   "file_extension": ".py",
   "mimetype": "text/x-python",
   "name": "python",
   "nbconvert_exporter": "python",
   "pygments_lexer": "ipython3",
   "version": "3.7.0"
  }
 },
 "nbformat": 4,
 "nbformat_minor": 2
}
