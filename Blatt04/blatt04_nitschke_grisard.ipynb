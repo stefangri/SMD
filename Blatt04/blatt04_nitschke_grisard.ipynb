{
 "cells": [
  {
   "cell_type": "markdown",
   "metadata": {},
   "source": [
    "# Blatt 4"
   ]
  },
  {
   "cell_type": "markdown",
   "metadata": {},
   "source": [
    "## Aufgabe 10: Zwei Populationen"
   ]
  },
  {
   "cell_type": "code",
   "execution_count": null,
   "metadata": {},
   "outputs": [],
   "source": [
    "import numpy as np\n",
    "import matplotlib.pyplot as plt \n",
    "import pandas as pd"
   ]
  },
  {
   "cell_type": "code",
   "execution_count": null,
   "metadata": {},
   "outputs": [],
   "source": [
    "mux0 = 0 \n",
    "muy0 = 3\n",
    "sigx0 = 3.5\n",
    "sigy0 = 2.6\n",
    "cor0 = 0.9\n",
    "cov0 = cor0 * sigx0 * sigy0\n",
    "\n",
    "cov_mat0 = np.array([[sigx0**2, cov0], [cov0, sigy0**2]])"
   ]
  },
  {
   "cell_type": "code",
   "execution_count": null,
   "metadata": {},
   "outputs": [],
   "source": [
    "population0_10000 = np.random.multivariate_normal([mux0, muy0], cov_mat0, 10000)"
   ]
  },
  {
   "cell_type": "code",
   "execution_count": null,
   "metadata": {},
   "outputs": [],
   "source": [
    "mux1 = 6\n",
    "sigx1 = 3.5\n",
    "a = -0.5 \n",
    "b = 0.6\n",
    "var_yx = 1\n",
    "\n",
    "muy1 = a + b * mux1\n",
    "sigy1 = np.sqrt(b**2 * sigx1**2 + var_yx)\n",
    "cor1 = np.sqrt(b**2 * sigx1**2 / sigy1**2)\n",
    "\n",
    "cov1 = cor1 * sigx1 * sigy1\n",
    "cov_mat1 = np.array([[sigx1**2, cov1], [cov1, sigy1**2]])\n",
    "\n",
    "print(muy1, sigy1, cor1)"
   ]
  },
  {
   "cell_type": "code",
   "execution_count": null,
   "metadata": {},
   "outputs": [],
   "source": [
    "population1 = np.random.multivariate_normal([mux1, muy1], cov_mat1, 10000)"
   ]
  },
  {
   "cell_type": "markdown",
   "metadata": {},
   "source": [
    "__b)__ Zeichne Scatter-Plots:"
   ]
  },
  {
   "cell_type": "code",
   "execution_count": null,
   "metadata": {},
   "outputs": [],
   "source": [
    "plt.scatter(population0_10000[:, 0], population0_10000[:, 1], s=5, alpha=0.2, label = 'Population 0')\n",
    "plt.scatter(population1[:, 0], population1[:, 1], s=5, alpha=0.2, label = 'Population 1')\n",
    "plt.legend()"
   ]
  },
  {
   "cell_type": "code",
   "execution_count": null,
   "metadata": {},
   "outputs": [],
   "source": [
    "population0_1000 = np.random.multivariate_normal([mux0, muy0], cov_mat0, 1000)\n",
    "\n",
    "population0_10000_df = pd.DataFrame({\n",
    "    'x': population0_10000[:, 0],\n",
    "    'y': population0_10000[:, 1]\n",
    "})\n",
    "\n",
    "population0_1000_df = pd.DataFrame({\n",
    "    'x': population0_1000[:, 0],\n",
    "    'y': population0_1000[:, 1]\n",
    "})\n",
    "\n",
    "population1_df = pd.DataFrame({\n",
    "    'x': population1[:, 0],\n",
    "    'y': population1[:, 1]\n",
    "})\n",
    "\n",
    "population0_10000_df.to_hdf('sample.hdf5', key = 'population0_10000')\n",
    "population0_1000_df.to_hdf('sample.hdf5', key = 'population0_1000')\n",
    "population1_df.to_hdf('sample.hdf5', key = 'population1')"
   ]
  },
  {
   "cell_type": "markdown",
   "metadata": {},
   "source": [
    "## Aufgabe 11: Fisher-Diskriminante: Per Hand"
   ]
  },
  {
   "cell_type": "markdown",
   "metadata": {},
   "source": [
    "siehe Abgabe"
   ]
  },
  {
   "cell_type": "markdown",
   "metadata": {},
   "source": [
    "## Aufgabe 12: Fisher-Diskriminante: Implementierung"
   ]
  },
  {
   "cell_type": "markdown",
   "metadata": {},
   "source": [
    "Lade Daten:"
   ]
  },
  {
   "cell_type": "code",
   "execution_count": null,
   "metadata": {},
   "outputs": [],
   "source": [
    "import pandas as pd\n",
    "P_0 = pd.read_hdf('sample.hdf5', key='population0_10000')\n",
    "P_1 = pd.read_hdf('sample.hdf5', key='population1')\n",
    "P_0.head()"
   ]
  },
  {
   "cell_type": "markdown",
   "metadata": {},
   "source": [
    "__a)__ Berechne Mittelwerte:"
   ]
  },
  {
   "cell_type": "code",
   "execution_count": null,
   "metadata": {},
   "outputs": [],
   "source": [
    "mu0 = np.matrix([P_0.x.mean(), P_0.y.mean()]).T\n",
    "mu1 = np.matrix([P_1.x.mean(), P_1.y.mean()]).T"
   ]
  },
  {
   "cell_type": "markdown",
   "metadata": {},
   "source": [
    "__b)__ Berechne Kovarianzmatrizen:"
   ]
  },
  {
   "cell_type": "code",
   "execution_count": null,
   "metadata": {},
   "outputs": [],
   "source": [
    "V_0 = P_0.cov()\n",
    "V_1 = P_0.cov()"
   ]
  },
  {
   "cell_type": "code",
   "execution_count": null,
   "metadata": {},
   "outputs": [],
   "source": [
    "plt.scatter(P_0.x, P_0.y, s = 5, alpha = 0.2, label = 'Population 0')\n",
    "plt.scatter(P_1.x, P_1.y, s = 5, alpha = 0.2, label = 'Population 1')\n",
    "plt.legend()"
   ]
  },
  {
   "cell_type": "markdown",
   "metadata": {},
   "source": [
    "__c)__ Konstruiere $\\vec{\\lambda}$:"
   ]
  },
  {
   "cell_type": "code",
   "execution_count": null,
   "metadata": {},
   "outputs": [],
   "source": [
    "S_0 = np.sum([(xi.T - mu0) * (xi.T - mu0).T for xi in np.matrix(P_0)], axis = 0)\n",
    "S_1 = np.sum([(xi.T - mu1) * (xi.T - mu1).T for xi in np.matrix(P_1)], axis = 0)\n",
    "S_W = np.matrix(S_0 + S_1)"
   ]
  },
  {
   "cell_type": "code",
   "execution_count": null,
   "metadata": {},
   "outputs": [],
   "source": [
    "lam = S_W.I * (mu1 - mu0)\n",
    "normed_lam = lam /  np.sqrt(lam[0]**2 + lam[1]**2)\n",
    "lam_array = np.array([lam[0], lam[1]])[:, 0]\n",
    "print(lam_array[1] / lam_array[0])"
   ]
  },
  {
   "cell_type": "markdown",
   "metadata": {},
   "source": [
    "Die Geradengleichung lautet: $$y(x) \\approx -1.269 \\cdot x$$  "
   ]
  },
  {
   "cell_type": "code",
   "execution_count": null,
   "metadata": {},
   "outputs": [],
   "source": [
    "xplot = np.linspace(-5, 5, 100)\n",
    "plt.plot(xplot, lam_array[1] / lam_array[0] * xplot,\n",
    "         color = 'red', label = r'$\\vec{\\lambda}$')\n",
    "\n",
    "plt.scatter(P_0.x, P_0.y, s = 5, alpha = 0.2, label = 'Population 0')\n",
    "plt.scatter(P_1.x, P_1.y, s = 5, alpha = 0.2, label = 'Population 1')\n",
    "plt.legend()"
   ]
  },
  {
   "cell_type": "markdown",
   "metadata": {},
   "source": [
    "__d)__ Stelle die Projektionen in einem Histogramm dar:"
   ]
  },
  {
   "cell_type": "code",
   "execution_count": null,
   "metadata": {},
   "outputs": [],
   "source": [
    "projection_0 = np.array([(xi * normed_lam)[0, 0] for xi in np.matrix(P_0)])\n",
    "projection_1 = np.array([(xi * normed_lam)[0, 0] for xi in np.matrix(P_1)])"
   ]
  },
  {
   "cell_type": "code",
   "execution_count": null,
   "metadata": {},
   "outputs": [],
   "source": [
    "plt.hist(projection_0, histtype = 'step', label = 'Population 0', bins = 25)\n",
    "plt.hist(projection_1, histtype = 'step', label = 'Population 1', bins = 25)\n",
    "plt.legend()"
   ]
  },
  {
   "cell_type": "markdown",
   "metadata": {},
   "source": [
    "__e)__"
   ]
  },
  {
   "cell_type": "code",
   "execution_count": null,
   "metadata": {},
   "outputs": [],
   "source": [
    "def precision(signal, noise, cut):\n",
    "    true_pos  = np.array([len(signal[signal < cut]) for cut in cut]) \n",
    "    false_pos = np.array([len(noise[noise < cut]) for cut in cut])\n",
    "    return true_pos / (true_pos + false_pos)"
   ]
  },
  {
   "cell_type": "code",
   "execution_count": null,
   "metadata": {},
   "outputs": [],
   "source": [
    "def recall(signal, noise, cut):\n",
    "    true_pos  = np.array([len(signal[signal < cut]) for cut in cut])\n",
    "    false_neg = np.array([len(signal[signal > cut]) for cut in cut])\n",
    "    return true_pos / (true_pos + false_neg)"
   ]
  },
  {
   "cell_type": "code",
   "execution_count": null,
   "metadata": {},
   "outputs": [],
   "source": [
    "signal = projection_0\n",
    "noise = projection_1\n",
    "\n",
    "lam_cut = np.linspace(-6, 5, 100)\n",
    "plt.plot(lam_cut, precision(signal, noise, lam_cut), \n",
    "         label = 'Reinheit')\n",
    "plt.plot(lam_cut, recall(signal, noise, lam_cut), \n",
    "         label = 'Effizienz')\n",
    "plt.legend()"
   ]
  },
  {
   "cell_type": "markdown",
   "metadata": {},
   "source": [
    "__f)__ Untersuche Signal-Untergrundverhältnis:"
   ]
  },
  {
   "cell_type": "code",
   "execution_count": null,
   "metadata": {},
   "outputs": [],
   "source": [
    "def signal_noise_ratio(signal, noise, cut):\n",
    "    return np.array([len(signal[signal <= cut]) / len(noise[noise <= cut]) for cut in cut])"
   ]
  },
  {
   "cell_type": "code",
   "execution_count": null,
   "metadata": {},
   "outputs": [],
   "source": [
    "lam_cut = np.linspace(min(noise), 2, 1000)\n",
    "plt.plot(lam_cut, signal_noise_ratio(signal, noise, lam_cut), \n",
    "         label = 'Signal-Untergrundverhältnis')\n",
    "\n",
    "lam_cut[np.argmax(signal_noise_ratio(signal, noise, lam_cut))]"
   ]
  },
  {
   "cell_type": "markdown",
   "metadata": {},
   "source": [
    "__g)__ Untersuche Signifikanz:"
   ]
  },
  {
   "cell_type": "code",
   "execution_count": null,
   "metadata": {},
   "outputs": [],
   "source": [
    "def sig(signal, noise, cut):\n",
    "    return np.array([len(signal[signal <= cut]) / \n",
    "                     np.sqrt(len(noise[noise <= cut]) + len(signal[signal <= cut])) for cut in cut])"
   ]
  },
  {
   "cell_type": "code",
   "execution_count": null,
   "metadata": {},
   "outputs": [],
   "source": [
    "lam_cut = np.linspace(-5, 5, 1000)\n",
    "plt.plot(lam_cut, sig(signal, noise, lam_cut), \n",
    "         label = 'Signifikanz')\n",
    "\n",
    "lam_cut[np.argmax(sig(signal, noise, lam_cut))]"
   ]
  },
  {
   "cell_type": "markdown",
   "metadata": {},
   "source": [
    "### Nun alles nochmal mit der kleineren Population"
   ]
  },
  {
   "cell_type": "markdown",
   "metadata": {},
   "source": [
    "Lade Daten:"
   ]
  },
  {
   "cell_type": "code",
   "execution_count": null,
   "metadata": {},
   "outputs": [],
   "source": [
    "import pandas as pd\n",
    "P_0 = pd.read_hdf('sample.hdf5', key='population0_1000')\n",
    "P_1 = pd.read_hdf('sample.hdf5', key='population1')\n",
    "P_0.head()"
   ]
  },
  {
   "cell_type": "markdown",
   "metadata": {},
   "source": [
    "__a)__ Berechne Mittelwerte:"
   ]
  },
  {
   "cell_type": "code",
   "execution_count": null,
   "metadata": {},
   "outputs": [],
   "source": [
    "mu0 = np.matrix([P_0.x.mean(), P_0.y.mean()]).T\n",
    "mu1 = np.matrix([P_1.x.mean(), P_1.y.mean()]).T"
   ]
  },
  {
   "cell_type": "markdown",
   "metadata": {},
   "source": [
    "__b)__ Berechne Kovarianzmatrizen:"
   ]
  },
  {
   "cell_type": "code",
   "execution_count": null,
   "metadata": {},
   "outputs": [],
   "source": [
    "V_0 = P_0.cov()\n",
    "V_1 = P_0.cov()"
   ]
  },
  {
   "cell_type": "code",
   "execution_count": null,
   "metadata": {},
   "outputs": [],
   "source": [
    "plt.scatter(P_0.x, P_0.y, s = 5, alpha = 0.2, label = 'Population 0')\n",
    "plt.scatter(P_1.x, P_1.y, s = 5, alpha = 0.2, label = 'Population 1')\n",
    "plt.legend()"
   ]
  },
  {
   "cell_type": "markdown",
   "metadata": {},
   "source": [
    "__c)__ Konstruiere $\\vec{\\lambda}$:"
   ]
  },
  {
   "cell_type": "code",
   "execution_count": null,
   "metadata": {},
   "outputs": [],
   "source": [
    "S_0 = np.sum([(xi.T - mu0) * (xi.T - mu0).T for xi in np.matrix(P_0)], axis = 0)\n",
    "S_1 = np.sum([(xi.T - mu1) * (xi.T - mu1).T for xi in np.matrix(P_1)], axis = 0)\n",
    "S_W = np.matrix(S_0 + S_1)"
   ]
  },
  {
   "cell_type": "code",
   "execution_count": null,
   "metadata": {},
   "outputs": [],
   "source": [
    "lam = S_W.I * (mu1 - mu0)\n",
    "normed_lam = lam /  np.sqrt(lam[0]**2 + lam[1]**2)\n",
    "lam_array = np.array([lam[0], lam[1]])[:, 0]\n",
    "print(lam_array[1] / lam_array[0])"
   ]
  },
  {
   "cell_type": "markdown",
   "metadata": {},
   "source": [
    "Die Geradengleichung lautet: $$y(x) \\approx -1.329 \\cdot x$$  "
   ]
  },
  {
   "cell_type": "code",
   "execution_count": null,
   "metadata": {},
   "outputs": [],
   "source": [
    "xplot = np.linspace(-5, 5, 100)\n",
    "plt.plot(xplot, lam_array[1] / lam_array[0] * xplot,\n",
    "         color = 'red', label = r'$\\vec{\\lambda}$')\n",
    "\n",
    "plt.scatter(P_0.x, P_0.y, s = 5, alpha = 0.2, label = 'Population 0')\n",
    "plt.scatter(P_1.x, P_1.y, s = 5, alpha = 0.2, label = 'Population 1')\n",
    "plt.legend()"
   ]
  },
  {
   "cell_type": "markdown",
   "metadata": {},
   "source": [
    "__d)__ Stelle die Projektionen in einem Histogramm dar:"
   ]
  },
  {
   "cell_type": "code",
   "execution_count": null,
   "metadata": {},
   "outputs": [],
   "source": [
    "projection_0 = np.array([(xi * normed_lam)[0, 0] for xi in np.matrix(P_0)])\n",
    "projection_1 = np.array([(xi * normed_lam)[0, 0] for xi in np.matrix(P_1)])"
   ]
  },
  {
   "cell_type": "code",
   "execution_count": null,
   "metadata": {},
   "outputs": [],
   "source": [
    "plt.hist(projection_0, histtype = 'step', label = 'Population 0', bins = 25)\n",
    "plt.hist(projection_1, histtype = 'step', label = 'Population 1', bins = 25)\n",
    "plt.legend()"
   ]
  },
  {
   "cell_type": "markdown",
   "metadata": {},
   "source": [
    "__e)__"
   ]
  },
  {
   "cell_type": "code",
   "execution_count": null,
   "metadata": {},
   "outputs": [],
   "source": [
    "def precision(signal, noise, cut):\n",
    "    true_pos  = np.array([len(signal[signal < cut]) for cut in cut]) \n",
    "    false_pos = np.array([len(noise[noise < cut]) for cut in cut])\n",
    "    return true_pos / (true_pos + false_pos)"
   ]
  },
  {
   "cell_type": "code",
   "execution_count": null,
   "metadata": {},
   "outputs": [],
   "source": [
    "def recall(signal, noise, cut):\n",
    "    true_pos  = np.array([len(signal[signal < cut]) for cut in cut])\n",
    "    false_neg = np.array([len(signal[signal > cut]) for cut in cut])\n",
    "    return true_pos / (true_pos + false_neg)"
   ]
  },
  {
   "cell_type": "code",
   "execution_count": null,
   "metadata": {},
   "outputs": [],
   "source": [
    "signal = projection_0\n",
    "noise = projection_1\n",
    "\n",
    "lam_cut = np.linspace(-6, 5, 100)\n",
    "plt.plot(lam_cut, precision(signal, noise, lam_cut), \n",
    "         label = 'Reinheit')\n",
    "plt.plot(lam_cut, recall(signal, noise, lam_cut), \n",
    "         label = 'Effizienz')\n",
    "plt.legend()"
   ]
  },
  {
   "cell_type": "markdown",
   "metadata": {},
   "source": [
    "__f)__ Untersuche Signal-Untergrundverhältnis:"
   ]
  },
  {
   "cell_type": "code",
   "execution_count": null,
   "metadata": {},
   "outputs": [],
   "source": [
    "def signal_noise_ratio(signal, noise, cut):\n",
    "    return np.array([len(signal[signal <= cut]) / len(noise[noise <= cut]) for cut in cut])"
   ]
  },
  {
   "cell_type": "code",
   "execution_count": null,
   "metadata": {},
   "outputs": [],
   "source": [
    "lam_cut = np.linspace(min(noise), 2, 1000)\n",
    "plt.plot(lam_cut, signal_noise_ratio(signal, noise, lam_cut), \n",
    "         label = 'Signal-Untergrundverhältnis')\n",
    "\n",
    "lam_cut[np.argmax(signal_noise_ratio(signal, noise, lam_cut))]"
   ]
  },
  {
   "cell_type": "markdown",
   "metadata": {},
   "source": [
    "__g)__ Untersuche Signifikanz:"
   ]
  },
  {
   "cell_type": "code",
   "execution_count": null,
   "metadata": {},
   "outputs": [],
   "source": [
    "def sig(signal, noise, cut):\n",
    "    return np.array([len(signal[signal <= cut]) / \n",
    "                     np.sqrt(len(noise[noise <= cut]) + len(signal[signal <= cut])) for cut in cut])"
   ]
  },
  {
   "cell_type": "code",
   "execution_count": null,
   "metadata": {},
   "outputs": [],
   "source": [
    "lam_cut = np.linspace(-5, 5, 1000)\n",
    "plt.plot(lam_cut, sig(signal, noise, lam_cut), \n",
    "         label = 'Signifikanz')\n",
    "\n",
    "lam_cut[np.argmax(sig(signal, noise, lam_cut))]"
   ]
  },
  {
   "cell_type": "code",
   "execution_count": null,
   "metadata": {},
   "outputs": [],
   "source": []
  }
 ],
 "metadata": {
  "kernelspec": {
   "display_name": "Python 3",
   "language": "python",
   "name": "python3"
  },
  "language_info": {
   "codemirror_mode": {
    "name": "ipython",
    "version": 3
   },
   "file_extension": ".py",
   "mimetype": "text/x-python",
   "name": "python",
   "nbconvert_exporter": "python",
   "pygments_lexer": "ipython3",
   "version": "3.7.0"
  }
 },
 "nbformat": 4,
 "nbformat_minor": 2
}
