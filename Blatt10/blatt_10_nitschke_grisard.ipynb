{
 "cells": [
  {
   "cell_type": "markdown",
   "metadata": {},
   "source": [
    "## Aufgabe 28"
   ]
  },
  {
   "cell_type": "markdown",
   "metadata": {},
   "source": [
    "a)"
   ]
  },
  {
   "cell_type": "markdown",
   "metadata": {},
   "source": [
    "$$\n",
    " A = \\left( \\begin{array}{cc} \n",
    "      1-\\varepsilon & \\varepsilon \\\\ \n",
    "      \\varepsilon & 1-\\varepsilon \\\\\n",
    "      \\end{array}\n",
    "\\right) \n",
    "$$"
   ]
  },
  {
   "cell_type": "markdown",
   "metadata": {},
   "source": [
    "b)"
   ]
  },
  {
   "cell_type": "markdown",
   "metadata": {},
   "source": [
    "$$ \\vec{f} = A^{^-1}\\vec{g} = \\frac{5}{4}\\frac{1}{1-2\\varepsilon}\\left( \\begin{array}{c} (1-\\varepsilon) g_1 - \\varepsilon g_2 \\\\ (1-\\varepsilon)  g_2 - \\varepsilon g_1 \\end{array} \\right) $$"
   ]
  },
  {
   "cell_type": "markdown",
   "metadata": {},
   "source": [
    "c) "
   ]
  },
  {
   "cell_type": "markdown",
   "metadata": {},
   "source": [
    "$$ V_f = \\left( \\begin{array}{cc} \n",
    "(1-\\varepsilon)^2\\sqrt{g_1}+\\varepsilon^2\\sqrt{g_2} & -\\varepsilon(1-\\varepsilon)\\left(\\sqrt{g_1}+\\sqrt{g_2}\\right) \\\\\n",
    "-\\varepsilon(1-\\varepsilon)\\left(\\sqrt{g_1}+\\sqrt{g_2}\\right) & (1-\\varepsilon)^2\\sqrt{g_2}+\\varepsilon^2\\sqrt{g_1} \\\\\n",
    "\\end{array} \\right) $$"
   ]
  },
  {
   "cell_type": "markdown",
   "metadata": {},
   "source": [
    "d)"
   ]
  },
  {
   "cell_type": "code",
   "execution_count": null,
   "metadata": {},
   "outputs": [],
   "source": [
    "import numpy as np\n",
    "from scipy import linalg\n",
    "from numpy import linalg as la"
   ]
  },
  {
   "cell_type": "code",
   "execution_count": null,
   "metadata": {},
   "outputs": [],
   "source": [
    "def A(e):\n",
    "    return 0.8 * np.matrix([[1-e,e],[e,1-e]])\n",
    "\n",
    "g = np.array([200,169])"
   ]
  },
  {
   "cell_type": "code",
   "execution_count": null,
   "metadata": {},
   "outputs": [],
   "source": [
    "def V_f(e):\n",
    "    a = A(e)\n",
    "    V_g = np.diag(g)\n",
    "    return np.linalg.inv(a) @ V_g @ np.linalg.inv(a).T\n",
    "\n",
    "def f(g, e):\n",
    "    return np.linalg.inv(A(e))@g\n",
    "\n",
    "def Korr(matrix_A):\n",
    "    return matrix_A[0,1]/np.sqrt(matrix_A[0,0]*matrix_A[1,1])\n",
    "    "
   ]
  },
  {
   "cell_type": "code",
   "execution_count": null,
   "metadata": {},
   "outputs": [],
   "source": [
    "print(f'Fall 1, e = 0.1:', '\\n', f' f =  {f(g,0.1)}', '\\n', f' V_f = {V_f(0.1)}')\n",
    "print(f'Korrelationskoeffizient: {Korr(V_f(0.1))}')"
   ]
  },
  {
   "cell_type": "markdown",
   "metadata": {},
   "source": [
    "e)"
   ]
  },
  {
   "cell_type": "code",
   "execution_count": null,
   "metadata": {},
   "outputs": [],
   "source": [
    "print(f'Fall 1, e = 0.4:', '\\n', f' f =  {f(g, 0.4)}', '\\n', f' V_f = {V_f(0.4)}')\n",
    "print(f'Korrelationskoeffizienten: {Korr(V_f(0.4))}')"
   ]
  },
  {
   "cell_type": "markdown",
   "metadata": {},
   "source": [
    "f)"
   ]
  },
  {
   "cell_type": "markdown",
   "metadata": {},
   "source": [
    "Für $\\varepsilon=0.5$ ist die Matrix $A$ nicht invertierbar. Somit besitzt das Problem in diesem Fall keine analytische Lösung."
   ]
  },
  {
   "cell_type": "markdown",
   "metadata": {},
   "source": [
    "## Aufgabe 29"
   ]
  },
  {
   "cell_type": "markdown",
   "metadata": {},
   "source": [
    "a)"
   ]
  },
  {
   "cell_type": "code",
   "execution_count": null,
   "metadata": {},
   "outputs": [],
   "source": [
    "import matplotlib.pyplot as plt"
   ]
  },
  {
   "cell_type": "code",
   "execution_count": null,
   "metadata": {},
   "outputs": [],
   "source": [
    "def A_matrix(n,e):\n",
    "    A = np.zeros([n,n])\n",
    "    for i in range(n-1):\n",
    "        A[i, i+1] = e\n",
    "        A[i+1, i] = e\n",
    "    A[0,0] = A[n-1,n-1] = 1-e\n",
    "    for i in range(n-2):\n",
    "        A[i+1,i+1] = 1-2*e\n",
    "    return A"
   ]
  },
  {
   "cell_type": "markdown",
   "metadata": {},
   "source": [
    "A beschreibt einen Messprozess, bei dem mit einer Wahrscheinlichkeit von $\\varepsilon$ Ereignisse einem der Nachbarbins falsch zugeordnet werden. Der erste und letzte Bin der Diagonalen besitzen nur einen Nachbarn, weshalb hier nur $1 - \\varepsilon$ steht. "
   ]
  },
  {
   "cell_type": "markdown",
   "metadata": {},
   "source": [
    "b)"
   ]
  },
  {
   "cell_type": "code",
   "execution_count": null,
   "metadata": {},
   "outputs": [],
   "source": [
    "f = [193, 485, 664, 763, 804, 805, 779, 736, 684, 626,\n",
    "566, 508, 452, 400, 351, 308, 268, 233, 202, 173]\n",
    "A = A_matrix(20,0.23)\n",
    "g = A@f\n",
    "np.random.seed(42)\n",
    "g_mess = np.array([np.random.poisson(lam=n) for n in g])\n",
    "\n",
    "print(g_mess)"
   ]
  },
  {
   "cell_type": "markdown",
   "metadata": {},
   "source": [
    "c)"
   ]
  },
  {
   "cell_type": "markdown",
   "metadata": {},
   "source": [
    "$$ g = A  f = UDU^{-1}f \\\\\n",
    "U^{-1}g = D U^{-1}f \\\\c = Db \\;\\text{(Transformierte Gleichung)} $$\n",
    "\n",
    "Die neu eingeführten Vektoren $c$ und $b$ hängen über eine diagonale Matrix $D$ miteinander zusammen. Dies bieten den Vorteil, dass die Einträge unabhängig transformiert werden (Multiplikation mit Eigenwerten von A). Berechne nun die Eigenwerte/Eigenvektoren von $A$ und sortiere nach Größe absteigend (nutze hierzu die Funktion np.linalg.eigh(), welche die Eigenwerte in aufsteigender Reihenfolge ermittelt): "
   ]
  },
  {
   "cell_type": "code",
   "execution_count": null,
   "metadata": {},
   "outputs": [],
   "source": [
    "Eigenvalues = la.eigh(A)[0][::-1]\n",
    "Eigenvectors = la.eigh(A)[1]\n",
    "U = Eigenvectors[:, ::-1]\n",
    "D = np.diag(Eigenvalues)"
   ]
  },
  {
   "cell_type": "code",
   "execution_count": null,
   "metadata": {},
   "outputs": [],
   "source": [
    "c = la.inv(U)@g_mess\n",
    "V_g = np.diag(g_mess)\n",
    "V_c = la.inv(U)@V_g@la.inv(U).T"
   ]
  },
  {
   "cell_type": "code",
   "execution_count": null,
   "metadata": {},
   "outputs": [],
   "source": [
    "b = la.inv(D)@c\n",
    "B = la.inv(D)\n",
    "V_b = B @ V_c @ B.T\n",
    "sigma_b = np.sqrt(np.diag(V_b))\n",
    "#b_j = np.array([b[i]/n for i,n in enumerate(sigma_b)])\n",
    "b_j = np.abs(b)/sigma_b"
   ]
  },
  {
   "cell_type": "code",
   "execution_count": null,
   "metadata": {},
   "outputs": [],
   "source": [
    "import matplotlib.pyplot as plt\n",
    "plt.figure(figsize = (9, 7))\n",
    "bin_edges = np.linspace(0, 20, 21)\n",
    "\n",
    "plt.clf()\n",
    "plt.fill_between(bin_edges,np.concatenate(([0],b_j)), \n",
    "                 step=\"pre\",\n",
    "                linestyle = '-', facecolor = '',\n",
    "                edgecolor = 'b', label = 'Entfaltet')\n",
    "plt.axhline(y = 1, color = 'r', label = '1')\n",
    "plt.legend()\n",
    "plt.xlabel('Index')\n",
    "plt.ylabel('b normiert')\n",
    "plt.xticks([0, 5, 10, 15, 20])\n",
    "plt.ylim(0, 100)\n",
    "plt.xlim(0, 20)\n",
    "plt.yscale('symlog')\n",
    "plt.show()"
   ]
  },
  {
   "cell_type": "markdown",
   "metadata": {},
   "source": [
    "Bei allen Werten die unterhalb der roten Linie liegen, für die also $b_j < 1$ gilt, liegen die Werte außerhalb der $1\\sigma$-Umgebung. Diese Koeffizienten sind mit 0 verträglich und enthalten keine Information."
   ]
  },
  {
   "cell_type": "markdown",
   "metadata": {},
   "source": [
    "d)"
   ]
  },
  {
   "cell_type": "code",
   "execution_count": null,
   "metadata": {},
   "outputs": [],
   "source": [
    "f_unreg = U@b\n",
    "V_f = U@V_b@U.T\n",
    "\n",
    "# Regularisierung\n",
    "b_reg = np.copy(b)\n",
    "b_reg[9:] = 0\n",
    "V_b_reg = np.copy(V_b)\n",
    "\n",
    "for i in range(9,20):\n",
    "    V_b_reg[i,i] = 0\n",
    "    \n",
    "f_reg = U@b_reg\n",
    "V_f_reg = U@V_b_reg@U.T\n",
    "\n"
   ]
  },
  {
   "cell_type": "code",
   "execution_count": null,
   "metadata": {},
   "outputs": [],
   "source": [
    "plt.figure(figsize = (14, 5))\n",
    "plt.fill_between(bin_edges,np.concatenate(([0],f)), step=\"pre\", alpha = 0.3,\n",
    "                color = 'g', label = 'Wahrheit')\n",
    "\n",
    "plt.errorbar(x = (bin_edges[1:] + bin_edges[:-1])*0.5, y = f_unreg, \n",
    "             xerr = np.diff(bin_edges)*0.5, yerr = np.sqrt(np.diag(V_f)), \n",
    "             linestyle = '', label = 'Unregularisiert', color = 'b')\n",
    "\n",
    "plt.errorbar(x = (bin_edges[1:] + bin_edges[:-1])*0.5, y = f_reg, \n",
    "             xerr = np.diff(bin_edges)*0.5, yerr = np.sqrt(np.diag(np.abs(V_f_reg))), \n",
    "             linestyle = '', label = 'Regularisiert', color = 'r')\n",
    "\n",
    "plt.ylabel('Ereignisse')\n",
    "plt.xlabel('x')\n",
    "plt.legend()\n",
    "plt.ylim(0,1100)\n",
    "plt.xlim(0,20)\n",
    "plt.show()"
   ]
  },
  {
   "cell_type": "markdown",
   "metadata": {},
   "source": [
    "Aufgrund der Regularisierung können die im unregularisierten Fall auftretenden Oszillationen vermindert werden. Zudem sind \n",
    "die Varianzen geringer."
   ]
  },
  {
   "cell_type": "markdown",
   "metadata": {},
   "source": [
    "## Aufgabe 30: Data Mining Anwendung"
   ]
  },
  {
   "cell_type": "markdown",
   "metadata": {},
   "source": [
    "__a)__"
   ]
  },
  {
   "cell_type": "code",
   "execution_count": null,
   "metadata": {},
   "outputs": [],
   "source": [
    "from pandas import DataFrame \n",
    "import pandas as pd\n",
    "from sklearn.model_selection import train_test_split\n",
    "from sklearn.ensemble import RandomForestClassifier\n",
    "from sklearn.model_selection import cross_val_score\n",
    "from sklearn.metrics import roc_auc_score\n",
    "from sklearn.metrics import make_scorer\n",
    "from sklearn.metrics import roc_curve"
   ]
  },
  {
   "cell_type": "code",
   "execution_count": null,
   "metadata": {},
   "outputs": [],
   "source": [
    "data = pd.read_hdf('image_parameters_smd_reduced.hdf5')"
   ]
  },
  {
   "cell_type": "markdown",
   "metadata": {},
   "source": [
    "Erzeuge Vektor $y$ mit den Labels für Hadronen- und Gamma-Ereignissen:"
   ]
  },
  {
   "cell_type": "code",
   "execution_count": null,
   "metadata": {},
   "outputs": [],
   "source": [
    "y = np.zeros(len(data.corsika_run_header_particle_id))\n",
    "y[data.corsika_run_header_particle_id == 1] = 1"
   ]
  },
  {
   "cell_type": "markdown",
   "metadata": {},
   "source": [
    "Für die Analyse dürfen nur Parameter verwendet werden, die auch einer Messung zugänglich wären. Werfe daher alle Lables und insbesondere auch die wahre Gesamtenergie weg. "
   ]
  },
  {
   "cell_type": "code",
   "execution_count": null,
   "metadata": {},
   "outputs": [],
   "source": [
    "X = data.drop(columns=['run_id', 'event_num', \n",
    "                       'corsika_event_header_total_energy',\n",
    "                       'corsika_run_header_particle_id', ])"
   ]
  },
  {
   "cell_type": "markdown",
   "metadata": {},
   "source": [
    "Erzeuge einen Trainings- und einen Test-Datensatz:"
   ]
  },
  {
   "cell_type": "code",
   "execution_count": null,
   "metadata": {},
   "outputs": [],
   "source": [
    "X_train, X_test, y_train, y_test = train_test_split(X, y, test_size = 0.2, \n",
    "                                                    train_size = 0.8, \n",
    "                                                    random_state = 42)"
   ]
  },
  {
   "cell_type": "markdown",
   "metadata": {},
   "source": [
    "__b)__"
   ]
  },
  {
   "cell_type": "code",
   "execution_count": null,
   "metadata": {},
   "outputs": [],
   "source": [
    "for n in [1, 10, 100]:\n",
    "    print(f'n_estimators = {n}')\n",
    "    clf = RandomForestClassifier(n_estimators = n, n_jobs = -1)\n",
    "    clf.fit(X, y)\n",
    "    \n",
    "    roc_score = cross_val_score(clf, X, y, \n",
    "                                scoring=make_scorer(roc_auc_score), \n",
    "                                cv = 5, n_jobs = -1)\n",
    "    print(f'Roc Auc Score: {roc_score.mean():.4f} +/- {roc_score.std():.4f}\\n')"
   ]
  },
  {
   "cell_type": "markdown",
   "metadata": {},
   "source": [
    "Die besten Werte werden mit 100 Bäumen erreicht. "
   ]
  },
  {
   "cell_type": "markdown",
   "metadata": {},
   "source": [
    "__c)__ "
   ]
  },
  {
   "cell_type": "code",
   "execution_count": null,
   "metadata": {},
   "outputs": [],
   "source": [
    "clf = RandomForestClassifier(n_estimators = 100, n_jobs = -1)\n",
    "clf.fit(X_train, y_train)\n",
    "prediction = clf.predict_proba(X_test)[:, 1]"
   ]
  },
  {
   "cell_type": "markdown",
   "metadata": {},
   "source": [
    "__d)__ Evaluiere den Klassifizierer mit der ROC-Kurve:"
   ]
  },
  {
   "cell_type": "code",
   "execution_count": null,
   "metadata": {},
   "outputs": [],
   "source": [
    "plt.figure(figsize = (7, 7))\n",
    "plt.xlim(0, 1)\n",
    "plt.ylim(0, 1)\n",
    "plt.xlabel('False Positive Rate')\n",
    "plt.ylabel('True Positive Rate')\n",
    "fpr, tpr, t = roc_curve(y_test, prediction)\n",
    "plt.plot([0, 1], label = 'Random', linewidth = 3)\n",
    "plt.plot(fpr, tpr, label = 'Result', linewidth = 3)\n",
    "plt.legend()"
   ]
  },
  {
   "cell_type": "markdown",
   "metadata": {},
   "source": [
    "Berechne die Fläche unter der Kurve:"
   ]
  },
  {
   "cell_type": "code",
   "execution_count": null,
   "metadata": {},
   "outputs": [],
   "source": [
    "score = roc_auc_score(y_test, prediction)\n",
    "print(f'Fläche: {score}.')"
   ]
  },
  {
   "cell_type": "markdown",
   "metadata": {},
   "source": [
    "Für einen idealen Classifier wäre die Fläche 1."
   ]
  },
  {
   "cell_type": "markdown",
   "metadata": {},
   "source": [
    "Trenne die 'Prediction Propabilities' nach den wahren Gamma und Hadron Ereignissen:  "
   ]
  },
  {
   "cell_type": "code",
   "execution_count": null,
   "metadata": {},
   "outputs": [],
   "source": [
    "y_predict_gamma = prediction[y_test == 1]\n",
    "y_predict_hadron = prediction[y_test == 0]"
   ]
  },
  {
   "cell_type": "code",
   "execution_count": null,
   "metadata": {},
   "outputs": [],
   "source": [
    "plt.figure(figsize = (10, 5))\n",
    "plt.hist(y_predict_gamma, histtype = 'step', \n",
    "         bins = 30, label = 'Gamma', \n",
    "         range = (0, 1), linewidth = 3)\n",
    "plt.hist(y_predict_hadron, histtype = 'step', \n",
    "         bins = 30, label = 'Hadron', \n",
    "         range = (0, 1), linewidth = 3)\n",
    "plt.xlabel('Score')\n",
    "plt.ylabel('Anzahl')\n",
    "plt.legend()\n",
    "plt.show()"
   ]
  },
  {
   "cell_type": "markdown",
   "metadata": {},
   "source": [
    "Kommentar: Ein idealer Classifier würde alle Hadron-Ereignisse bei 0 einordnen und alle Gamma-Ereignisse bei 1. Der plot zeigt, dass man die beiden Populationen nicht gut voneinader trennen kann, da der Überlapp der Verteilungen recht groß ist. "
   ]
  }
 ],
 "metadata": {
  "kernelspec": {
   "display_name": "Python 3",
   "language": "python",
   "name": "python3"
  },
  "language_info": {
   "codemirror_mode": {
    "name": "ipython",
    "version": 3
   },
   "file_extension": ".py",
   "mimetype": "text/x-python",
   "name": "python",
   "nbconvert_exporter": "python",
   "pygments_lexer": "ipython3",
   "version": "3.7.0"
  }
 },
 "nbformat": 4,
 "nbformat_minor": 2
}
