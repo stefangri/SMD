{
 "cells": [
  {
   "cell_type": "markdown",
   "metadata": {},
   "source": [
    "# Aufgabenblatt 11"
   ]
  },
  {
   "cell_type": "markdown",
   "metadata": {},
   "source": [
    "## Aufgabe 28"
   ]
  },
  {
   "cell_type": "markdown",
   "metadata": {},
   "source": [
    "a)"
   ]
  },
  {
   "cell_type": "markdown",
   "metadata": {},
   "source": [
    "$$\n",
    " A = \\left( \\begin{array}{cc} \n",
    "      1-\\varepsilon & \\varepsilon \\\\ \n",
    "      \\varepsilon & 1-\\varepsilon \\\\\n",
    "      \\end{array}\n",
    "\\right) \n",
    "$$"
   ]
  },
  {
   "cell_type": "markdown",
   "metadata": {},
   "source": [
    "b)"
   ]
  },
  {
   "cell_type": "markdown",
   "metadata": {},
   "source": [
    "$$ \\vec{f} = A^{^-1}\\vec{g} = \\frac{5}{4}\\frac{1}{1-2\\varepsilon}\\left( \\begin{array}{c} (1-\\varepsilon) g_1 - \\varepsilon g_2 \\\\ (1-\\varepsilon)  g_2 - \\varepsilon g_1 \\end{array} \\right) $$"
   ]
  },
  {
   "cell_type": "markdown",
   "metadata": {},
   "source": [
    "c) "
   ]
  },
  {
   "cell_type": "markdown",
   "metadata": {},
   "source": [
    "$$ V_f = \\left( \\begin{array}{cc} \n",
    "(1-\\varepsilon)^2\\sqrt{g_1}+\\varepsilon^2\\sqrt{g_2} & -\\varepsilon(1-\\varepsilon)\\left(\\sqrt{g_1}+\\sqrt{g_2}\\right) \\\\\n",
    "-\\varepsilon(1-\\varepsilon)\\left(\\sqrt{g_1}+\\sqrt{g_2}\\right) & (1-\\varepsilon)^2\\sqrt{g_2}+\\varepsilon^2\\sqrt{g_1} \\\\\n",
    "\\end{array} \\right) $$"
   ]
  },
  {
   "cell_type": "markdown",
   "metadata": {},
   "source": [
    "d)"
   ]
  },
  {
   "cell_type": "code",
   "execution_count": null,
   "metadata": {},
   "outputs": [],
   "source": [
    "import numpy as np\n",
    "from scipy import linalg\n",
    "from numpy import linalg as la"
   ]
  },
  {
   "cell_type": "code",
   "execution_count": null,
   "metadata": {},
   "outputs": [],
   "source": [
    "def A(e):\n",
    "    return 0.8 * np.matrix([[1-e,e],[e,1-e]])\n",
    "\n",
    "g = np.array([200,169])"
   ]
  },
  {
   "cell_type": "code",
   "execution_count": null,
   "metadata": {},
   "outputs": [],
   "source": [
    "def V_f(e):\n",
    "    a = A(e)\n",
    "    V_g = np.diag(g)\n",
    "    return np.linalg.inv(a) @ V_g @ np.linalg.inv(a).T\n",
    "\n",
    "def f(g, e):\n",
    "    return np.linalg.inv(A(e))@g\n",
    "\n",
    "def Korr(matrix_A):\n",
    "    return matrix_A[0,1]/np.sqrt(matrix_A[0,0]*matrix_A[1,1])\n",
    "    "
   ]
  },
  {
   "cell_type": "code",
   "execution_count": null,
   "metadata": {},
   "outputs": [],
   "source": [
    "print(f'Fall 1, e = 0.1:', '\\n', f' f =  {f(g,0.1)}', '\\n', f' V_f = {V_f(0.1)}')\n",
    "print(f'Korrelationskoeffizient: {Korr(V_f(0.1))}')"
   ]
  },
  {
   "cell_type": "markdown",
   "metadata": {},
   "source": [
    "e)"
   ]
  },
  {
   "cell_type": "code",
   "execution_count": null,
   "metadata": {},
   "outputs": [],
   "source": [
    "print(f'Fall 1, e = 0.4:', '\\n', f' f =  {f(g, 0.4)}', '\\n', f' V_f = {V_f(0.4)}')\n",
    "print(f'Korrelationskoeffizienten: {Korr(V_f(0.4))}')"
   ]
  },
  {
   "cell_type": "markdown",
   "metadata": {},
   "source": [
    "f)"
   ]
  },
  {
   "cell_type": "markdown",
   "metadata": {},
   "source": [
    "Für $\\varepsilon=0.5$ ist die Matrix $A$ nicht invertierbar. Somit besitzt das Problem in diesem Fall keine analytische Lösung."
   ]
  },
  {
   "cell_type": "markdown",
   "metadata": {},
   "source": [
    "## Aufgabe 29"
   ]
  },
  {
   "cell_type": "markdown",
   "metadata": {},
   "source": [
    "a)"
   ]
  },
  {
   "cell_type": "code",
   "execution_count": null,
   "metadata": {},
   "outputs": [],
   "source": [
    "import matplotlib.pyplot as plt"
   ]
  },
  {
   "cell_type": "code",
   "execution_count": null,
   "metadata": {},
   "outputs": [],
   "source": [
    "def A_matrix(n,e):\n",
    "    A = np.zeros([n,n])\n",
    "    for i in range(n-1):\n",
    "        A[i, i+1] = e\n",
    "        A[i+1, i] = e\n",
    "    A[0,0] = A[n-1,n-1] = 1-e\n",
    "    for i in range(n-2):\n",
    "        A[i+1,i+1] = 1-2*e\n",
    "    return A"
   ]
  },
  {
   "cell_type": "markdown",
   "metadata": {},
   "source": [
    "A beschreibt einen Messprozess, bei dem mit einer Wahrscheinlichkeit von $\\varepsilon$ Ereignisse einem der Nachbarbins falsch zugeordnet werden. Der erste und letzte Bin der Diagonalen besitzen nur einen Nachbarn, weshalb hier nur $1 - \\varepsilon$ steht. "
   ]
  },
  {
   "cell_type": "markdown",
   "metadata": {},
   "source": [
    "b)"
   ]
  },
  {
   "cell_type": "code",
   "execution_count": null,
   "metadata": {},
   "outputs": [],
   "source": [
    "f = [193, 485, 664, 763, 804, 805, 779, 736, 684, 626,\n",
    "566, 508, 452, 400, 351, 308, 268, 233, 202, 173]\n",
    "A = A_matrix(20,0.23)\n",
    "g = A@f\n",
    "np.random.seed(42)\n",
    "g_mess = np.array([np.random.poisson(lam=n) for n in g])\n",
    "\n",
    "print(g_mess)"
   ]
  },
  {
   "cell_type": "markdown",
   "metadata": {},
   "source": [
    "c)"
   ]
  },
  {
   "cell_type": "markdown",
   "metadata": {},
   "source": [
    "$$ g = A  f = UDU^{-1}f \\\\\n",
    "U^{-1}g = D U^{-1}f \\\\c = Db \\;\\text{(Transformierte Gleichung)} $$\n",
    "\n",
    "Die neu eingeführten Vektoren $c$ und $b$ hängen über eine diagonale Matrix $D$ miteinander zusammen. Dies bieten den Vorteil, dass die Einträge unabhängig transformiert werden (Multiplikation mit Eigenwerten von A). Berechne nun die Eigenwerte/Eigenvektoren von $A$ und sortiere nach Größe absteigend (nutze hierzu die Funktion np.linalg.eigh(), welche die Eigenwerte in aufsteigender Reihenfolge ermittelt): "
   ]
  },
  {
   "cell_type": "code",
   "execution_count": null,
   "metadata": {},
   "outputs": [],
   "source": [
    "Eigenvalues = la.eigh(A)[0][::-1]\n",
    "Eigenvectors = la.eigh(A)[1]\n",
    "U = Eigenvectors[:, ::-1]\n",
    "D = np.diag(Eigenvalues)"
   ]
  },
  {
   "cell_type": "code",
   "execution_count": null,
   "metadata": {},
   "outputs": [],
   "source": [
    "c = la.inv(U)@g_mess\n",
    "V_g = np.diag(g_mess)\n",
    "V_c = la.inv(U)@V_g@la.inv(U).T"
   ]
  },
  {
   "cell_type": "code",
   "execution_count": null,
   "metadata": {},
   "outputs": [],
   "source": [
    "b = la.inv(D)@c\n",
    "B = la.inv(D)\n",
    "V_b = B @ V_c @ B.T\n",
    "sigma_b = np.sqrt(np.diag(V_b))\n",
    "#b_j = np.array([b[i]/n for i,n in enumerate(sigma_b)])\n",
    "b_j = np.abs(b)/sigma_b"
   ]
  },
  {
   "cell_type": "code",
   "execution_count": null,
   "metadata": {},
   "outputs": [],
   "source": [
    "import matplotlib.pyplot as plt\n",
    "plt.figure(figsize = (9, 7))\n",
    "bin_edges = np.linspace(0, 20, 21)\n",
    "\n",
    "plt.clf()\n",
    "plt.fill_between(bin_edges,np.concatenate(([0],b_j)), \n",
    "                 step=\"pre\",\n",
    "                linestyle = '-', facecolor = '',\n",
    "                edgecolor = 'b', label = 'Entfaltet')\n",
    "plt.axhline(y = 1, color = 'r', label = '1')\n",
    "plt.legend()\n",
    "plt.xlabel('Index')\n",
    "plt.ylabel('b normiert')\n",
    "plt.xticks([0, 5, 10, 15, 20])\n",
    "plt.ylim(0, 100)\n",
    "plt.xlim(0, 20)\n",
    "plt.yscale('symlog')\n",
    "plt.show()"
   ]
  },
  {
   "cell_type": "markdown",
   "metadata": {},
   "source": [
    "Bei allen Werten die unterhalb der roten Linie liegen, für die also $b_j < 1$ gilt, liegen die Werte außerhalb der $1\\sigma$-Umgebung. Diese Koeffizienten sind mit 0 verträglich und enthalten keine Information."
   ]
  },
  {
   "cell_type": "markdown",
   "metadata": {},
   "source": [
    "d)"
   ]
  },
  {
   "cell_type": "code",
   "execution_count": null,
   "metadata": {},
   "outputs": [],
   "source": [
    "f_unreg = U@b\n",
    "V_f = U@V_b@U.T\n",
    "\n",
    "# Regularisierung\n",
    "b_reg = np.copy(b)\n",
    "b_reg[9:] = 0\n",
    "V_b_reg = np.copy(V_b)\n",
    "\n",
    "for i in range(9,20):\n",
    "    V_b_reg[i,i] = 0\n",
    "    \n",
    "f_reg = U@b_reg\n",
    "V_f_reg = U@V_b_reg@U.T\n",
    "\n"
   ]
  },
  {
   "cell_type": "code",
   "execution_count": null,
   "metadata": {},
   "outputs": [],
   "source": [
    "plt.figure(figsize = (14, 5))\n",
    "plt.fill_between(bin_edges,np.concatenate(([0],f)), step=\"pre\", alpha = 0.3,\n",
    "                color = 'g', label = 'Wahrheit')\n",
    "\n",
    "plt.errorbar(x = (bin_edges[1:] + bin_edges[:-1])*0.5, y = f_unreg, \n",
    "             xerr = np.diff(bin_edges)*0.5, yerr = np.sqrt(np.diag(V_f)), \n",
    "             linestyle = '', label = 'Unregularisiert', color = 'b')\n",
    "\n",
    "plt.errorbar(x = (bin_edges[1:] + bin_edges[:-1])*0.5, y = f_reg, \n",
    "             xerr = np.diff(bin_edges)*0.5, yerr = np.sqrt(np.diag(np.abs(V_f_reg))), \n",
    "             linestyle = '', label = 'Regularisiert', color = 'r')\n",
    "\n",
    "plt.ylabel('Ereignisse')\n",
    "plt.xlabel('x')\n",
    "plt.legend()\n",
    "plt.ylim(0,1100)\n",
    "plt.xlim(0,20)\n",
    "plt.show()"
   ]
  },
  {
   "cell_type": "markdown",
   "metadata": {},
   "source": [
    "Aufgrund der Regularisierung können die im unregularisierten Fall auftretenden Oszillationen vermindert werden. Zudem sind \n",
    "die Varianzen geringer."
   ]
  }
 ],
 "metadata": {
  "kernelspec": {
   "display_name": "Python 3",
   "language": "python",
   "name": "python3"
  },
  "language_info": {
   "codemirror_mode": {
    "name": "ipython",
    "version": 3
   },
   "file_extension": ".py",
   "mimetype": "text/x-python",
   "name": "python",
   "nbconvert_exporter": "python",
   "pygments_lexer": "ipython3",
   "version": "3.6.5"
  }
 },
 "nbformat": 4,
 "nbformat_minor": 2
}
