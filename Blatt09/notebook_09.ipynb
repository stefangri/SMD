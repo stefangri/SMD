{
 "cells": [
  {
   "cell_type": "markdown",
   "metadata": {},
   "source": [
    "# Aufgabe 25"
   ]
  },
  {
   "cell_type": "code",
   "execution_count": null,
   "metadata": {},
   "outputs": [],
   "source": [
    "import numpy as np \n",
    "import matplotlib.pyplot as plt \n",
    "from numpy.polynomial.polynomial import polyval\n",
    "import uncertainties.unumpy as unp\n",
    "from uncertainties.unumpy import nominal_values as noms\n",
    "from uncertainties.unumpy import std_devs as stds\n",
    "import pandas as pd"
   ]
  },
  {
   "cell_type": "markdown",
   "metadata": {},
   "source": [
    "__a)__ Bestimme die Parameter mit der Methoder der kleinsten Quadrate:"
   ]
  },
  {
   "cell_type": "code",
   "execution_count": null,
   "metadata": {},
   "outputs": [],
   "source": [
    "#read data\n",
    "x, y = np.genfromtxt('aufg_a.csv', delimiter = ',', unpack = True)\n",
    "\n",
    "#design matrix\n",
    "A = np.array([x**i for i in range(7)]).T\n",
    "\n",
    "#parameters with least square\n",
    "best_a = np.linalg.inv(A.T @ A) @ A.T @ y\n",
    "\n",
    "for i in range(7):\n",
    "    print(f'a_{i} ~ {best_a[i]:.4f}')"
   ]
  },
  {
   "cell_type": "markdown",
   "metadata": {},
   "source": [
    "Stelle das Ergebnis graphisch dar:"
   ]
  },
  {
   "cell_type": "code",
   "execution_count": null,
   "metadata": {},
   "outputs": [],
   "source": [
    "xplot = np.linspace(x[0], x[-1], 100)\n",
    "plt.plot(xplot, polyval(xplot, best_a), label = 'Fit')\n",
    "plt.plot(x, y, '.', label = 'Daten')\n",
    "plt.xlabel('x')\n",
    "plt.ylabel('y')\n",
    "plt.legend()\n",
    "plt.show()"
   ]
  },
  {
   "cell_type": "markdown",
   "metadata": {},
   "source": [
    "__b)__ Erstelle zunächst die Matrix $C$, mit der die numerische zweite Ableitung bestimmt wird:"
   ]
  },
  {
   "cell_type": "code",
   "execution_count": null,
   "metadata": {},
   "outputs": [],
   "source": [
    "C = np.zeros((np.shape(A)[0], np.shape(A)[0]))\n",
    "np.fill_diagonal(C, -2)\n",
    "np.fill_diagonal(C[1:], 1)\n",
    "np.fill_diagonal(C[:, 1:], 1)\n",
    "C[0, 0] = -1\n",
    "C[-1, -1] = -1\n",
    "C"
   ]
  },
  {
   "cell_type": "markdown",
   "metadata": {},
   "source": [
    "Gibt es dafür eine fertige Methode?"
   ]
  },
  {
   "cell_type": "markdown",
   "metadata": {},
   "source": [
    "Stelle die Ergebnisse der Regularisierung  für verschiedene $\\lambda$ dar:"
   ]
  },
  {
   "cell_type": "code",
   "execution_count": null,
   "metadata": {},
   "outputs": [],
   "source": [
    "plt.plot(x, y, '.', label = 'Daten')\n",
    "\n",
    "for lam in [0.1, 0.3, 0.7, 3, 10]:\n",
    "    gamma = np.sqrt(lam) * C @ A\n",
    "    best_a_reg = np.linalg.inv(A.T @ A + gamma.T @ gamma) @ A.T @ y  \n",
    "    plt.plot(xplot, polyval(xplot, best_a_reg), \n",
    "             label = f'$\\lambda = {lam}$')\n",
    "    \n",
    "plt.legend()    \n",
    "plt.show()"
   ]
  },
  {
   "cell_type": "markdown",
   "metadata": {},
   "source": [
    "__c)__ "
   ]
  },
  {
   "cell_type": "code",
   "execution_count": null,
   "metadata": {},
   "outputs": [],
   "source": [
    "#read data\n",
    "data = pd.read_csv('aufg_c.csv')\n",
    "x = data['x']\n",
    "\n",
    "#calculate mean and error for y\n",
    "y = unp.uarray(data.drop(columns = 'x').T.mean(), \n",
    "               data.drop(columns = 'x').T.std())\n",
    "\n",
    "#weight matrix\n",
    "W = np.zeros((np.shape(A)[0], np.shape(A)[0]))\n",
    "np.fill_diagonal(W, 1 / stds(y)**2)"
   ]
  },
  {
   "cell_type": "code",
   "execution_count": null,
   "metadata": {},
   "outputs": [],
   "source": [
    "#calculate parameters\n",
    "best_a_weight = np.linalg.inv(A.T @ W @ A) @ A.T @ W @ noms(y)"
   ]
  },
  {
   "cell_type": "markdown",
   "metadata": {},
   "source": [
    "Stelle Ergebnisse in einem Plot dar:"
   ]
  },
  {
   "cell_type": "code",
   "execution_count": null,
   "metadata": {},
   "outputs": [],
   "source": [
    "plt.plot(xplot, polyval(xplot, best_a_weight), label = 'Gewichteter Fit')\n",
    "plt.errorbar(x = x, y = noms(y), \n",
    "             yerr = stds(y), \n",
    "             label = 'Daten', marker = '.', linestyle = '')\n",
    "plt.xlabel('x')\n",
    "plt.ylabel('y')\n",
    "plt.legend()\n",
    "plt.show()"
   ]
  }
 ],
 "metadata": {
  "kernelspec": {
   "display_name": "Python 3",
   "language": "python",
   "name": "python3"
  },
  "language_info": {
   "codemirror_mode": {
    "name": "ipython",
    "version": 3
   },
   "file_extension": ".py",
   "mimetype": "text/x-python",
   "name": "python",
   "nbconvert_exporter": "python",
   "pygments_lexer": "ipython3",
   "version": "3.7.0"
  }
 },
 "nbformat": 4,
 "nbformat_minor": 2
}
